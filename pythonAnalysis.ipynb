{
 "cells": [
  {
   "cell_type": "markdown",
   "metadata": {},
   "source": [
    "#  1) Importation dataset & analyses rapides"
   ]
  },
  {
   "cell_type": "code",
   "execution_count": 1,
   "metadata": {},
   "outputs": [
    {
     "data": {
      "text/html": [
       "<div>\n",
       "<style scoped>\n",
       "    .dataframe tbody tr th:only-of-type {\n",
       "        vertical-align: middle;\n",
       "    }\n",
       "\n",
       "    .dataframe tbody tr th {\n",
       "        vertical-align: top;\n",
       "    }\n",
       "\n",
       "    .dataframe thead th {\n",
       "        text-align: right;\n",
       "    }\n",
       "</style>\n",
       "<table border=\"1\" class=\"dataframe\">\n",
       "  <thead>\n",
       "    <tr style=\"text-align: right;\">\n",
       "      <th></th>\n",
       "      <th>number</th>\n",
       "      <th>incident_state</th>\n",
       "      <th>active</th>\n",
       "      <th>reassignment_count</th>\n",
       "      <th>reopen_count</th>\n",
       "      <th>sys_mod_count</th>\n",
       "      <th>made_sla</th>\n",
       "      <th>caller_id</th>\n",
       "      <th>opened_by</th>\n",
       "      <th>opened_at</th>\n",
       "      <th>...</th>\n",
       "      <th>u_priority_confirmation</th>\n",
       "      <th>notify</th>\n",
       "      <th>problem_id</th>\n",
       "      <th>rfc</th>\n",
       "      <th>vendor</th>\n",
       "      <th>caused_by</th>\n",
       "      <th>closed_code</th>\n",
       "      <th>resolved_by</th>\n",
       "      <th>resolved_at</th>\n",
       "      <th>closed_at</th>\n",
       "    </tr>\n",
       "  </thead>\n",
       "  <tbody>\n",
       "    <tr>\n",
       "      <th>0</th>\n",
       "      <td>INC0000045</td>\n",
       "      <td>New</td>\n",
       "      <td>True</td>\n",
       "      <td>0</td>\n",
       "      <td>0</td>\n",
       "      <td>0</td>\n",
       "      <td>True</td>\n",
       "      <td>Caller 2403</td>\n",
       "      <td>Opened by  8</td>\n",
       "      <td>29/2/2016 01:16</td>\n",
       "      <td>...</td>\n",
       "      <td>False</td>\n",
       "      <td>Do Not Notify</td>\n",
       "      <td>?</td>\n",
       "      <td>?</td>\n",
       "      <td>?</td>\n",
       "      <td>?</td>\n",
       "      <td>code 5</td>\n",
       "      <td>Resolved by 149</td>\n",
       "      <td>29/2/2016 11:29</td>\n",
       "      <td>5/3/2016 12:00</td>\n",
       "    </tr>\n",
       "    <tr>\n",
       "      <th>1</th>\n",
       "      <td>INC0000045</td>\n",
       "      <td>Resolved</td>\n",
       "      <td>True</td>\n",
       "      <td>0</td>\n",
       "      <td>0</td>\n",
       "      <td>2</td>\n",
       "      <td>True</td>\n",
       "      <td>Caller 2403</td>\n",
       "      <td>Opened by  8</td>\n",
       "      <td>29/2/2016 01:16</td>\n",
       "      <td>...</td>\n",
       "      <td>False</td>\n",
       "      <td>Do Not Notify</td>\n",
       "      <td>?</td>\n",
       "      <td>?</td>\n",
       "      <td>?</td>\n",
       "      <td>?</td>\n",
       "      <td>code 5</td>\n",
       "      <td>Resolved by 149</td>\n",
       "      <td>29/2/2016 11:29</td>\n",
       "      <td>5/3/2016 12:00</td>\n",
       "    </tr>\n",
       "    <tr>\n",
       "      <th>2</th>\n",
       "      <td>INC0000045</td>\n",
       "      <td>Resolved</td>\n",
       "      <td>True</td>\n",
       "      <td>0</td>\n",
       "      <td>0</td>\n",
       "      <td>3</td>\n",
       "      <td>True</td>\n",
       "      <td>Caller 2403</td>\n",
       "      <td>Opened by  8</td>\n",
       "      <td>29/2/2016 01:16</td>\n",
       "      <td>...</td>\n",
       "      <td>False</td>\n",
       "      <td>Do Not Notify</td>\n",
       "      <td>?</td>\n",
       "      <td>?</td>\n",
       "      <td>?</td>\n",
       "      <td>?</td>\n",
       "      <td>code 5</td>\n",
       "      <td>Resolved by 149</td>\n",
       "      <td>29/2/2016 11:29</td>\n",
       "      <td>5/3/2016 12:00</td>\n",
       "    </tr>\n",
       "    <tr>\n",
       "      <th>3</th>\n",
       "      <td>INC0000045</td>\n",
       "      <td>Closed</td>\n",
       "      <td>False</td>\n",
       "      <td>0</td>\n",
       "      <td>0</td>\n",
       "      <td>4</td>\n",
       "      <td>True</td>\n",
       "      <td>Caller 2403</td>\n",
       "      <td>Opened by  8</td>\n",
       "      <td>29/2/2016 01:16</td>\n",
       "      <td>...</td>\n",
       "      <td>False</td>\n",
       "      <td>Do Not Notify</td>\n",
       "      <td>?</td>\n",
       "      <td>?</td>\n",
       "      <td>?</td>\n",
       "      <td>?</td>\n",
       "      <td>code 5</td>\n",
       "      <td>Resolved by 149</td>\n",
       "      <td>29/2/2016 11:29</td>\n",
       "      <td>5/3/2016 12:00</td>\n",
       "    </tr>\n",
       "    <tr>\n",
       "      <th>4</th>\n",
       "      <td>INC0000047</td>\n",
       "      <td>New</td>\n",
       "      <td>True</td>\n",
       "      <td>0</td>\n",
       "      <td>0</td>\n",
       "      <td>0</td>\n",
       "      <td>True</td>\n",
       "      <td>Caller 2403</td>\n",
       "      <td>Opened by  397</td>\n",
       "      <td>29/2/2016 04:40</td>\n",
       "      <td>...</td>\n",
       "      <td>False</td>\n",
       "      <td>Do Not Notify</td>\n",
       "      <td>?</td>\n",
       "      <td>?</td>\n",
       "      <td>?</td>\n",
       "      <td>?</td>\n",
       "      <td>code 5</td>\n",
       "      <td>Resolved by 81</td>\n",
       "      <td>1/3/2016 09:52</td>\n",
       "      <td>6/3/2016 10:00</td>\n",
       "    </tr>\n",
       "  </tbody>\n",
       "</table>\n",
       "<p>5 rows × 36 columns</p>\n",
       "</div>"
      ],
      "text/plain": [
       "       number incident_state  active  reassignment_count  reopen_count  \\\n",
       "0  INC0000045            New    True                   0             0   \n",
       "1  INC0000045       Resolved    True                   0             0   \n",
       "2  INC0000045       Resolved    True                   0             0   \n",
       "3  INC0000045         Closed   False                   0             0   \n",
       "4  INC0000047            New    True                   0             0   \n",
       "\n",
       "   sys_mod_count  made_sla    caller_id       opened_by        opened_at  ...  \\\n",
       "0              0      True  Caller 2403    Opened by  8  29/2/2016 01:16  ...   \n",
       "1              2      True  Caller 2403    Opened by  8  29/2/2016 01:16  ...   \n",
       "2              3      True  Caller 2403    Opened by  8  29/2/2016 01:16  ...   \n",
       "3              4      True  Caller 2403    Opened by  8  29/2/2016 01:16  ...   \n",
       "4              0      True  Caller 2403  Opened by  397  29/2/2016 04:40  ...   \n",
       "\n",
       "  u_priority_confirmation         notify problem_id rfc vendor caused_by  \\\n",
       "0                   False  Do Not Notify          ?   ?      ?         ?   \n",
       "1                   False  Do Not Notify          ?   ?      ?         ?   \n",
       "2                   False  Do Not Notify          ?   ?      ?         ?   \n",
       "3                   False  Do Not Notify          ?   ?      ?         ?   \n",
       "4                   False  Do Not Notify          ?   ?      ?         ?   \n",
       "\n",
       "  closed_code      resolved_by      resolved_at       closed_at  \n",
       "0      code 5  Resolved by 149  29/2/2016 11:29  5/3/2016 12:00  \n",
       "1      code 5  Resolved by 149  29/2/2016 11:29  5/3/2016 12:00  \n",
       "2      code 5  Resolved by 149  29/2/2016 11:29  5/3/2016 12:00  \n",
       "3      code 5  Resolved by 149  29/2/2016 11:29  5/3/2016 12:00  \n",
       "4      code 5   Resolved by 81   1/3/2016 09:52  6/3/2016 10:00  \n",
       "\n",
       "[5 rows x 36 columns]"
      ]
     },
     "execution_count": 1,
     "metadata": {},
     "output_type": "execute_result"
    }
   ],
   "source": [
    "import pandas as pd\n",
    "import zipfile\n",
    "from datetime import datetime\n",
    "import time\n",
    "\n",
    "df = pd.read_csv(\"https://archive.ics.uci.edu/ml/machine-learning-databases/00498/incident_event_log.zip\")\n",
    "df.head(5)"
   ]
  },
  {
   "cell_type": "code",
   "execution_count": 2,
   "metadata": {},
   "outputs": [
    {
     "name": "stdout",
     "output_type": "stream",
     "text": [
      "<class 'pandas.core.frame.DataFrame'>\n",
      "RangeIndex: 141712 entries, 0 to 141711\n",
      "Data columns (total 36 columns):\n",
      "number                     141712 non-null object\n",
      "incident_state             141712 non-null object\n",
      "active                     141712 non-null bool\n",
      "reassignment_count         141712 non-null int64\n",
      "reopen_count               141712 non-null int64\n",
      "sys_mod_count              141712 non-null int64\n",
      "made_sla                   141712 non-null bool\n",
      "caller_id                  141712 non-null object\n",
      "opened_by                  141712 non-null object\n",
      "opened_at                  141712 non-null object\n",
      "sys_created_by             141712 non-null object\n",
      "sys_created_at             141712 non-null object\n",
      "sys_updated_by             141712 non-null object\n",
      "sys_updated_at             141712 non-null object\n",
      "contact_type               141712 non-null object\n",
      "location                   141712 non-null object\n",
      "category                   141712 non-null object\n",
      "subcategory                141712 non-null object\n",
      "u_symptom                  141712 non-null object\n",
      "cmdb_ci                    141712 non-null object\n",
      "impact                     141712 non-null object\n",
      "urgency                    141712 non-null object\n",
      "priority                   141712 non-null object\n",
      "assignment_group           141712 non-null object\n",
      "assigned_to                141712 non-null object\n",
      "knowledge                  141712 non-null bool\n",
      "u_priority_confirmation    141712 non-null bool\n",
      "notify                     141712 non-null object\n",
      "problem_id                 141712 non-null object\n",
      "rfc                        141712 non-null object\n",
      "vendor                     141712 non-null object\n",
      "caused_by                  141712 non-null object\n",
      "closed_code                141712 non-null object\n",
      "resolved_by                141712 non-null object\n",
      "resolved_at                141712 non-null object\n",
      "closed_at                  141712 non-null object\n",
      "dtypes: bool(4), int64(3), object(29)\n",
      "memory usage: 35.1+ MB\n"
     ]
    }
   ],
   "source": [
    "df.info()"
   ]
  },
  {
   "cell_type": "code",
   "execution_count": 3,
   "metadata": {},
   "outputs": [
    {
     "data": {
      "text/plain": [
       "(141712, 36)"
      ]
     },
     "execution_count": 3,
     "metadata": {},
     "output_type": "execute_result"
    }
   ],
   "source": [
    "df.shape"
   ]
  },
  {
   "cell_type": "code",
   "execution_count": 4,
   "metadata": {},
   "outputs": [
    {
     "data": {
      "text/plain": [
       "number                     0\n",
       "incident_state             0\n",
       "active                     0\n",
       "reassignment_count         0\n",
       "reopen_count               0\n",
       "sys_mod_count              0\n",
       "made_sla                   0\n",
       "caller_id                  0\n",
       "opened_by                  0\n",
       "opened_at                  0\n",
       "sys_created_by             0\n",
       "sys_created_at             0\n",
       "sys_updated_by             0\n",
       "sys_updated_at             0\n",
       "contact_type               0\n",
       "location                   0\n",
       "category                   0\n",
       "subcategory                0\n",
       "u_symptom                  0\n",
       "cmdb_ci                    0\n",
       "impact                     0\n",
       "urgency                    0\n",
       "priority                   0\n",
       "assignment_group           0\n",
       "assigned_to                0\n",
       "knowledge                  0\n",
       "u_priority_confirmation    0\n",
       "notify                     0\n",
       "problem_id                 0\n",
       "rfc                        0\n",
       "vendor                     0\n",
       "caused_by                  0\n",
       "closed_code                0\n",
       "resolved_by                0\n",
       "resolved_at                0\n",
       "closed_at                  0\n",
       "dtype: int64"
      ]
     },
     "execution_count": 4,
     "metadata": {},
     "output_type": "execute_result"
    }
   ],
   "source": [
    "df.isnull().sum()"
   ]
  },
  {
   "cell_type": "markdown",
   "metadata": {},
   "source": [
    "# 2) Preparation données -> analyse attributs/columnes à garder ou valeur à supprimer/changer"
   ]
  },
  {
   "cell_type": "markdown",
   "metadata": {},
   "source": [
    "* POUR PREDIRE LE TEMPS RESTANT AVANT COMPLETION (cad TEMPS POUR RESOUDRE LE PROBLEME), ON A D'ABORD BESOIN D'UNE COLUMNE NOMMEE 'duration' qui correspond A LA DUREE ENTRE L'OUVERTURE DU TICKET ET SA RESOLUTION (resolved_at - opened_at) QUE L'ON CONVERTIS EN JOURS\n",
    "\n",
    "* ON S'ASSURE QUE TOUTES LES VALEURS DE TEMPS CORRESPONDENT A DES DATETIME, SINON ON DROP CES VALEURS"
   ]
  },
  {
   "cell_type": "code",
   "execution_count": 5,
   "metadata": {},
   "outputs": [
    {
     "data": {
      "text/plain": [
       "?                  3141\n",
       "3/6/2016 16:29       93\n",
       "3/6/2016 16:28       85\n",
       "3/6/2016 16:27       83\n",
       "3/6/2016 16:31       59\n",
       "12/5/2016 23:51      58\n",
       "29/4/2016 09:37      57\n",
       "4/8/2016 08:39       56\n",
       "13/5/2016 14:55      56\n",
       "15/3/2016 12:11      54\n",
       "3/5/2016 17:09       49\n",
       "3/6/2016 16:30       47\n",
       "11/5/2016 15:37      46\n",
       "24/3/2016 11:37      46\n",
       "3/6/2016 16:26       46\n",
       "5/4/2016 14:28       45\n",
       "13/4/2016 16:41      45\n",
       "6/4/2016 15:29       45\n",
       "19/5/2016 10:43      45\n",
       "23/3/2016 14:44      45\n",
       "6/4/2016 09:24       43\n",
       "6/5/2016 14:39       43\n",
       "7/4/2016 11:05       42\n",
       "7/4/2016 14:23       42\n",
       "31/3/2016 11:13      41\n",
       "17/3/2016 10:33      40\n",
       "18/4/2016 12:51      40\n",
       "25/5/2016 10:14      40\n",
       "10/5/2016 16:26      40\n",
       "6/4/2016 12:22       39\n",
       "                   ... \n",
       "9/3/2016 18:56        2\n",
       "6/4/2016 15:33        2\n",
       "16/3/2016 09:31       2\n",
       "10/3/2016 10:01       2\n",
       "17/3/2016 18:11       2\n",
       "8/4/2016 06:47        2\n",
       "15/4/2016 18:45       2\n",
       "19/4/2016 17:20       2\n",
       "17/3/2016 17:04       2\n",
       "30/3/2016 20:15       2\n",
       "22/3/2016 09:55       2\n",
       "6/4/2016 09:01        2\n",
       "25/4/2016 13:58       2\n",
       "28/3/2016 16:38       2\n",
       "21/3/2016 16:54       2\n",
       "18/3/2016 09:43       2\n",
       "15/3/2016 17:22       2\n",
       "31/3/2016 08:57       2\n",
       "10/3/2016 19:16       2\n",
       "20/3/2016 00:47       2\n",
       "23/3/2016 11:04       2\n",
       "1/4/2016 09:54        2\n",
       "10/3/2016 12:54       2\n",
       "8/4/2016 12:06        2\n",
       "27/4/2016 18:26       2\n",
       "4/4/2016 08:57        2\n",
       "29/4/2016 08:27       2\n",
       "15/3/2016 09:57       2\n",
       "31/3/2016 01:16       2\n",
       "23/3/2016 15:06       2\n",
       "Name: resolved_at, Length: 18506, dtype: int64"
      ]
     },
     "execution_count": 5,
     "metadata": {},
     "output_type": "execute_result"
    }
   ],
   "source": [
    "df['resolved_at'].value_counts()"
   ]
  },
  {
   "cell_type": "markdown",
   "metadata": {},
   "source": [
    "* ON DROP LES ? DES DATES (3000 lignes drop, mais de toute facon inutilisable)"
   ]
  },
  {
   "cell_type": "code",
   "execution_count": 6,
   "metadata": {},
   "outputs": [
    {
     "data": {
      "text/plain": [
       "3/6/2016 16:29     93\n",
       "3/6/2016 16:28     85\n",
       "3/6/2016 16:27     83\n",
       "3/6/2016 16:31     59\n",
       "12/5/2016 23:51    58\n",
       "29/4/2016 09:37    57\n",
       "13/5/2016 14:55    56\n",
       "4/8/2016 08:39     56\n",
       "15/3/2016 12:11    54\n",
       "3/5/2016 17:09     49\n",
       "3/6/2016 16:30     47\n",
       "11/5/2016 15:37    46\n",
       "3/6/2016 16:26     46\n",
       "24/3/2016 11:37    46\n",
       "19/5/2016 10:43    45\n",
       "5/4/2016 14:28     45\n",
       "23/3/2016 14:44    45\n",
       "13/4/2016 16:41    45\n",
       "6/4/2016 15:29     45\n",
       "6/5/2016 14:39     43\n",
       "6/4/2016 09:24     43\n",
       "7/4/2016 14:23     42\n",
       "7/4/2016 11:05     42\n",
       "31/3/2016 11:13    41\n",
       "17/3/2016 10:33    40\n",
       "25/5/2016 10:14    40\n",
       "18/4/2016 12:51    40\n",
       "10/5/2016 16:26    40\n",
       "6/4/2016 12:22     39\n",
       "1/4/2016 15:59     39\n",
       "                   ..\n",
       "9/3/2016 18:56      2\n",
       "6/4/2016 15:33      2\n",
       "16/3/2016 09:31     2\n",
       "10/3/2016 10:01     2\n",
       "17/3/2016 18:11     2\n",
       "8/4/2016 06:47      2\n",
       "15/4/2016 18:45     2\n",
       "19/4/2016 17:20     2\n",
       "17/3/2016 17:04     2\n",
       "30/3/2016 20:15     2\n",
       "22/3/2016 09:55     2\n",
       "6/4/2016 09:01      2\n",
       "25/4/2016 13:58     2\n",
       "28/3/2016 16:38     2\n",
       "21/3/2016 16:54     2\n",
       "18/3/2016 09:43     2\n",
       "15/3/2016 17:22     2\n",
       "31/3/2016 08:57     2\n",
       "10/3/2016 19:16     2\n",
       "20/3/2016 00:47     2\n",
       "23/3/2016 11:04     2\n",
       "1/4/2016 09:54      2\n",
       "10/3/2016 12:54     2\n",
       "8/4/2016 12:06      2\n",
       "27/4/2016 18:26     2\n",
       "4/4/2016 08:57      2\n",
       "29/4/2016 08:27     2\n",
       "15/3/2016 09:57     2\n",
       "31/3/2016 01:16     2\n",
       "23/3/2016 15:06     2\n",
       "Name: resolved_at, Length: 18505, dtype: int64"
      ]
     },
     "execution_count": 6,
     "metadata": {},
     "output_type": "execute_result"
    }
   ],
   "source": [
    "indexNames = df[ df['resolved_at'] == '?' ].index\n",
    "df.drop(indexNames , inplace=True)\n",
    "df['resolved_at'].value_counts()"
   ]
  },
  {
   "cell_type": "code",
   "execution_count": 7,
   "metadata": {},
   "outputs": [
    {
     "data": {
      "text/plain": [
       "14/4/2016 20:42    58\n",
       "4/7/2016 14:38     56\n",
       "7/3/2016 09:11     52\n",
       "7/3/2016 11:58     52\n",
       "9/3/2016 16:03     51\n",
       "7/3/2016 11:04     51\n",
       "30/3/2016 09:20    49\n",
       "7/3/2016 09:25     48\n",
       "4/3/2016 10:28     48\n",
       "6/4/2016 15:09     48\n",
       "15/3/2016 14:42    47\n",
       "30/3/2016 08:20    46\n",
       "11/3/2016 11:25    46\n",
       "8/3/2016 10:40     46\n",
       "15/3/2016 09:38    46\n",
       "19/4/2016 08:20    45\n",
       "24/3/2016 16:01    44\n",
       "4/5/2016 09:47     43\n",
       "7/3/2016 11:50     42\n",
       "7/3/2016 10:35     42\n",
       "2/3/2016 16:10     41\n",
       "5/5/2016 09:38     40\n",
       "9/3/2016 09:57     40\n",
       "11/3/2016 14:18    40\n",
       "4/3/2016 10:30     40\n",
       "4/5/2016 09:24     39\n",
       "30/5/2016 08:58    39\n",
       "30/5/2016 10:34    39\n",
       "8/3/2016 13:43     39\n",
       "9/3/2016 10:25     39\n",
       "                   ..\n",
       "18/3/2016 22:38     2\n",
       "18/3/2016 14:41     2\n",
       "10/3/2016 09:55     2\n",
       "2/3/2016 17:40      2\n",
       "17/3/2016 20:40     2\n",
       "17/3/2016 15:31     2\n",
       "19/3/2016 08:37     2\n",
       "14/3/2016 10:18     2\n",
       "8/4/2016 06:41      2\n",
       "31/3/2016 01:02     2\n",
       "17/3/2016 10:48     2\n",
       "30/4/2016 01:59     2\n",
       "15/4/2016 15:03     2\n",
       "1/4/2016 08:41      2\n",
       "15/3/2016 10:23     2\n",
       "30/4/2016 01:34     2\n",
       "31/3/2016 10:51     2\n",
       "4/4/2016 09:57      2\n",
       "29/3/2016 15:54     2\n",
       "25/3/2016 22:16     2\n",
       "17/3/2016 17:30     2\n",
       "18/3/2016 14:51     2\n",
       "7/5/2016 00:05      2\n",
       "30/4/2016 22:20     2\n",
       "8/4/2016 11:06      2\n",
       "17/3/2016 10:17     2\n",
       "16/5/2016 06:16     2\n",
       "17/3/2016 17:00     2\n",
       "19/4/2016 11:48     2\n",
       "19/4/2016 16:20     2\n",
       "Name: opened_at, Length: 18825, dtype: int64"
      ]
     },
     "execution_count": 7,
     "metadata": {},
     "output_type": "execute_result"
    }
   ],
   "source": [
    "df['opened_at'].value_counts()"
   ]
  },
  {
   "cell_type": "markdown",
   "metadata": {},
   "source": [
    "* ON PASSE LES DATES EN FORMAT DATETIME, PUIS ON CREE LA COLUMNE 'duration' (correspondant à notre target)"
   ]
  },
  {
   "cell_type": "code",
   "execution_count": 8,
   "metadata": {},
   "outputs": [
    {
     "data": {
      "text/html": [
       "<div>\n",
       "<style scoped>\n",
       "    .dataframe tbody tr th:only-of-type {\n",
       "        vertical-align: middle;\n",
       "    }\n",
       "\n",
       "    .dataframe tbody tr th {\n",
       "        vertical-align: top;\n",
       "    }\n",
       "\n",
       "    .dataframe thead th {\n",
       "        text-align: right;\n",
       "    }\n",
       "</style>\n",
       "<table border=\"1\" class=\"dataframe\">\n",
       "  <thead>\n",
       "    <tr style=\"text-align: right;\">\n",
       "      <th></th>\n",
       "      <th>number</th>\n",
       "      <th>incident_state</th>\n",
       "      <th>active</th>\n",
       "      <th>reassignment_count</th>\n",
       "      <th>reopen_count</th>\n",
       "      <th>sys_mod_count</th>\n",
       "      <th>made_sla</th>\n",
       "      <th>caller_id</th>\n",
       "      <th>opened_by</th>\n",
       "      <th>opened_at</th>\n",
       "      <th>...</th>\n",
       "      <th>notify</th>\n",
       "      <th>problem_id</th>\n",
       "      <th>rfc</th>\n",
       "      <th>vendor</th>\n",
       "      <th>caused_by</th>\n",
       "      <th>closed_code</th>\n",
       "      <th>resolved_by</th>\n",
       "      <th>resolved_at</th>\n",
       "      <th>closed_at</th>\n",
       "      <th>duration</th>\n",
       "    </tr>\n",
       "  </thead>\n",
       "  <tbody>\n",
       "    <tr>\n",
       "      <th>0</th>\n",
       "      <td>INC0000045</td>\n",
       "      <td>New</td>\n",
       "      <td>True</td>\n",
       "      <td>0</td>\n",
       "      <td>0</td>\n",
       "      <td>0</td>\n",
       "      <td>True</td>\n",
       "      <td>Caller 2403</td>\n",
       "      <td>Opened by  8</td>\n",
       "      <td>2016-02-29 01:16:00</td>\n",
       "      <td>...</td>\n",
       "      <td>Do Not Notify</td>\n",
       "      <td>?</td>\n",
       "      <td>?</td>\n",
       "      <td>?</td>\n",
       "      <td>?</td>\n",
       "      <td>code 5</td>\n",
       "      <td>Resolved by 149</td>\n",
       "      <td>2016-02-29 11:29:00</td>\n",
       "      <td>5/3/2016 12:00</td>\n",
       "      <td>0 days 10:13:00</td>\n",
       "    </tr>\n",
       "    <tr>\n",
       "      <th>1</th>\n",
       "      <td>INC0000045</td>\n",
       "      <td>Resolved</td>\n",
       "      <td>True</td>\n",
       "      <td>0</td>\n",
       "      <td>0</td>\n",
       "      <td>2</td>\n",
       "      <td>True</td>\n",
       "      <td>Caller 2403</td>\n",
       "      <td>Opened by  8</td>\n",
       "      <td>2016-02-29 01:16:00</td>\n",
       "      <td>...</td>\n",
       "      <td>Do Not Notify</td>\n",
       "      <td>?</td>\n",
       "      <td>?</td>\n",
       "      <td>?</td>\n",
       "      <td>?</td>\n",
       "      <td>code 5</td>\n",
       "      <td>Resolved by 149</td>\n",
       "      <td>2016-02-29 11:29:00</td>\n",
       "      <td>5/3/2016 12:00</td>\n",
       "      <td>0 days 10:13:00</td>\n",
       "    </tr>\n",
       "    <tr>\n",
       "      <th>2</th>\n",
       "      <td>INC0000045</td>\n",
       "      <td>Resolved</td>\n",
       "      <td>True</td>\n",
       "      <td>0</td>\n",
       "      <td>0</td>\n",
       "      <td>3</td>\n",
       "      <td>True</td>\n",
       "      <td>Caller 2403</td>\n",
       "      <td>Opened by  8</td>\n",
       "      <td>2016-02-29 01:16:00</td>\n",
       "      <td>...</td>\n",
       "      <td>Do Not Notify</td>\n",
       "      <td>?</td>\n",
       "      <td>?</td>\n",
       "      <td>?</td>\n",
       "      <td>?</td>\n",
       "      <td>code 5</td>\n",
       "      <td>Resolved by 149</td>\n",
       "      <td>2016-02-29 11:29:00</td>\n",
       "      <td>5/3/2016 12:00</td>\n",
       "      <td>0 days 10:13:00</td>\n",
       "    </tr>\n",
       "    <tr>\n",
       "      <th>3</th>\n",
       "      <td>INC0000045</td>\n",
       "      <td>Closed</td>\n",
       "      <td>False</td>\n",
       "      <td>0</td>\n",
       "      <td>0</td>\n",
       "      <td>4</td>\n",
       "      <td>True</td>\n",
       "      <td>Caller 2403</td>\n",
       "      <td>Opened by  8</td>\n",
       "      <td>2016-02-29 01:16:00</td>\n",
       "      <td>...</td>\n",
       "      <td>Do Not Notify</td>\n",
       "      <td>?</td>\n",
       "      <td>?</td>\n",
       "      <td>?</td>\n",
       "      <td>?</td>\n",
       "      <td>code 5</td>\n",
       "      <td>Resolved by 149</td>\n",
       "      <td>2016-02-29 11:29:00</td>\n",
       "      <td>5/3/2016 12:00</td>\n",
       "      <td>0 days 10:13:00</td>\n",
       "    </tr>\n",
       "    <tr>\n",
       "      <th>4</th>\n",
       "      <td>INC0000047</td>\n",
       "      <td>New</td>\n",
       "      <td>True</td>\n",
       "      <td>0</td>\n",
       "      <td>0</td>\n",
       "      <td>0</td>\n",
       "      <td>True</td>\n",
       "      <td>Caller 2403</td>\n",
       "      <td>Opened by  397</td>\n",
       "      <td>2016-02-29 04:40:00</td>\n",
       "      <td>...</td>\n",
       "      <td>Do Not Notify</td>\n",
       "      <td>?</td>\n",
       "      <td>?</td>\n",
       "      <td>?</td>\n",
       "      <td>?</td>\n",
       "      <td>code 5</td>\n",
       "      <td>Resolved by 81</td>\n",
       "      <td>2016-01-03 09:52:00</td>\n",
       "      <td>6/3/2016 10:00</td>\n",
       "      <td>-57 days +05:12:00</td>\n",
       "    </tr>\n",
       "  </tbody>\n",
       "</table>\n",
       "<p>5 rows × 37 columns</p>\n",
       "</div>"
      ],
      "text/plain": [
       "       number incident_state  active  reassignment_count  reopen_count  \\\n",
       "0  INC0000045            New    True                   0             0   \n",
       "1  INC0000045       Resolved    True                   0             0   \n",
       "2  INC0000045       Resolved    True                   0             0   \n",
       "3  INC0000045         Closed   False                   0             0   \n",
       "4  INC0000047            New    True                   0             0   \n",
       "\n",
       "   sys_mod_count  made_sla    caller_id       opened_by           opened_at  \\\n",
       "0              0      True  Caller 2403    Opened by  8 2016-02-29 01:16:00   \n",
       "1              2      True  Caller 2403    Opened by  8 2016-02-29 01:16:00   \n",
       "2              3      True  Caller 2403    Opened by  8 2016-02-29 01:16:00   \n",
       "3              4      True  Caller 2403    Opened by  8 2016-02-29 01:16:00   \n",
       "4              0      True  Caller 2403  Opened by  397 2016-02-29 04:40:00   \n",
       "\n",
       "   ...         notify problem_id rfc vendor caused_by closed_code  \\\n",
       "0  ...  Do Not Notify          ?   ?      ?         ?      code 5   \n",
       "1  ...  Do Not Notify          ?   ?      ?         ?      code 5   \n",
       "2  ...  Do Not Notify          ?   ?      ?         ?      code 5   \n",
       "3  ...  Do Not Notify          ?   ?      ?         ?      code 5   \n",
       "4  ...  Do Not Notify          ?   ?      ?         ?      code 5   \n",
       "\n",
       "       resolved_by         resolved_at       closed_at           duration  \n",
       "0  Resolved by 149 2016-02-29 11:29:00  5/3/2016 12:00    0 days 10:13:00  \n",
       "1  Resolved by 149 2016-02-29 11:29:00  5/3/2016 12:00    0 days 10:13:00  \n",
       "2  Resolved by 149 2016-02-29 11:29:00  5/3/2016 12:00    0 days 10:13:00  \n",
       "3  Resolved by 149 2016-02-29 11:29:00  5/3/2016 12:00    0 days 10:13:00  \n",
       "4   Resolved by 81 2016-01-03 09:52:00  6/3/2016 10:00 -57 days +05:12:00  \n",
       "\n",
       "[5 rows x 37 columns]"
      ]
     },
     "execution_count": 8,
     "metadata": {},
     "output_type": "execute_result"
    }
   ],
   "source": [
    "df['opened_at'] = pd.to_datetime(df[\"opened_at\"])\n",
    "df['resolved_at'] = pd.to_datetime(df[\"resolved_at\"])\n",
    "df['duration'] = df['resolved_at']-df['opened_at']\n",
    "df.head(5)"
   ]
  },
  {
   "cell_type": "markdown",
   "metadata": {},
   "source": [
    "* ON CONVERTIT EN JOUR (float)"
   ]
  },
  {
   "cell_type": "code",
   "execution_count": 9,
   "metadata": {},
   "outputs": [
    {
     "data": {
      "text/html": [
       "<div>\n",
       "<style scoped>\n",
       "    .dataframe tbody tr th:only-of-type {\n",
       "        vertical-align: middle;\n",
       "    }\n",
       "\n",
       "    .dataframe tbody tr th {\n",
       "        vertical-align: top;\n",
       "    }\n",
       "\n",
       "    .dataframe thead th {\n",
       "        text-align: right;\n",
       "    }\n",
       "</style>\n",
       "<table border=\"1\" class=\"dataframe\">\n",
       "  <thead>\n",
       "    <tr style=\"text-align: right;\">\n",
       "      <th></th>\n",
       "      <th>number</th>\n",
       "      <th>incident_state</th>\n",
       "      <th>active</th>\n",
       "      <th>reassignment_count</th>\n",
       "      <th>reopen_count</th>\n",
       "      <th>sys_mod_count</th>\n",
       "      <th>made_sla</th>\n",
       "      <th>caller_id</th>\n",
       "      <th>opened_by</th>\n",
       "      <th>opened_at</th>\n",
       "      <th>...</th>\n",
       "      <th>notify</th>\n",
       "      <th>problem_id</th>\n",
       "      <th>rfc</th>\n",
       "      <th>vendor</th>\n",
       "      <th>caused_by</th>\n",
       "      <th>closed_code</th>\n",
       "      <th>resolved_by</th>\n",
       "      <th>resolved_at</th>\n",
       "      <th>closed_at</th>\n",
       "      <th>duration</th>\n",
       "    </tr>\n",
       "  </thead>\n",
       "  <tbody>\n",
       "    <tr>\n",
       "      <th>0</th>\n",
       "      <td>INC0000045</td>\n",
       "      <td>New</td>\n",
       "      <td>True</td>\n",
       "      <td>0</td>\n",
       "      <td>0</td>\n",
       "      <td>0</td>\n",
       "      <td>True</td>\n",
       "      <td>Caller 2403</td>\n",
       "      <td>Opened by  8</td>\n",
       "      <td>2016-02-29 01:16:00</td>\n",
       "      <td>...</td>\n",
       "      <td>Do Not Notify</td>\n",
       "      <td>?</td>\n",
       "      <td>?</td>\n",
       "      <td>?</td>\n",
       "      <td>?</td>\n",
       "      <td>code 5</td>\n",
       "      <td>Resolved by 149</td>\n",
       "      <td>2016-02-29 11:29:00</td>\n",
       "      <td>5/3/2016 12:00</td>\n",
       "      <td>0.4</td>\n",
       "    </tr>\n",
       "    <tr>\n",
       "      <th>1</th>\n",
       "      <td>INC0000045</td>\n",
       "      <td>Resolved</td>\n",
       "      <td>True</td>\n",
       "      <td>0</td>\n",
       "      <td>0</td>\n",
       "      <td>2</td>\n",
       "      <td>True</td>\n",
       "      <td>Caller 2403</td>\n",
       "      <td>Opened by  8</td>\n",
       "      <td>2016-02-29 01:16:00</td>\n",
       "      <td>...</td>\n",
       "      <td>Do Not Notify</td>\n",
       "      <td>?</td>\n",
       "      <td>?</td>\n",
       "      <td>?</td>\n",
       "      <td>?</td>\n",
       "      <td>code 5</td>\n",
       "      <td>Resolved by 149</td>\n",
       "      <td>2016-02-29 11:29:00</td>\n",
       "      <td>5/3/2016 12:00</td>\n",
       "      <td>0.4</td>\n",
       "    </tr>\n",
       "    <tr>\n",
       "      <th>2</th>\n",
       "      <td>INC0000045</td>\n",
       "      <td>Resolved</td>\n",
       "      <td>True</td>\n",
       "      <td>0</td>\n",
       "      <td>0</td>\n",
       "      <td>3</td>\n",
       "      <td>True</td>\n",
       "      <td>Caller 2403</td>\n",
       "      <td>Opened by  8</td>\n",
       "      <td>2016-02-29 01:16:00</td>\n",
       "      <td>...</td>\n",
       "      <td>Do Not Notify</td>\n",
       "      <td>?</td>\n",
       "      <td>?</td>\n",
       "      <td>?</td>\n",
       "      <td>?</td>\n",
       "      <td>code 5</td>\n",
       "      <td>Resolved by 149</td>\n",
       "      <td>2016-02-29 11:29:00</td>\n",
       "      <td>5/3/2016 12:00</td>\n",
       "      <td>0.4</td>\n",
       "    </tr>\n",
       "    <tr>\n",
       "      <th>3</th>\n",
       "      <td>INC0000045</td>\n",
       "      <td>Closed</td>\n",
       "      <td>False</td>\n",
       "      <td>0</td>\n",
       "      <td>0</td>\n",
       "      <td>4</td>\n",
       "      <td>True</td>\n",
       "      <td>Caller 2403</td>\n",
       "      <td>Opened by  8</td>\n",
       "      <td>2016-02-29 01:16:00</td>\n",
       "      <td>...</td>\n",
       "      <td>Do Not Notify</td>\n",
       "      <td>?</td>\n",
       "      <td>?</td>\n",
       "      <td>?</td>\n",
       "      <td>?</td>\n",
       "      <td>code 5</td>\n",
       "      <td>Resolved by 149</td>\n",
       "      <td>2016-02-29 11:29:00</td>\n",
       "      <td>5/3/2016 12:00</td>\n",
       "      <td>0.4</td>\n",
       "    </tr>\n",
       "    <tr>\n",
       "      <th>4</th>\n",
       "      <td>INC0000047</td>\n",
       "      <td>New</td>\n",
       "      <td>True</td>\n",
       "      <td>0</td>\n",
       "      <td>0</td>\n",
       "      <td>0</td>\n",
       "      <td>True</td>\n",
       "      <td>Caller 2403</td>\n",
       "      <td>Opened by  397</td>\n",
       "      <td>2016-02-29 04:40:00</td>\n",
       "      <td>...</td>\n",
       "      <td>Do Not Notify</td>\n",
       "      <td>?</td>\n",
       "      <td>?</td>\n",
       "      <td>?</td>\n",
       "      <td>?</td>\n",
       "      <td>code 5</td>\n",
       "      <td>Resolved by 81</td>\n",
       "      <td>2016-01-03 09:52:00</td>\n",
       "      <td>6/3/2016 10:00</td>\n",
       "      <td>-56.8</td>\n",
       "    </tr>\n",
       "  </tbody>\n",
       "</table>\n",
       "<p>5 rows × 37 columns</p>\n",
       "</div>"
      ],
      "text/plain": [
       "       number incident_state  active  reassignment_count  reopen_count  \\\n",
       "0  INC0000045            New    True                   0             0   \n",
       "1  INC0000045       Resolved    True                   0             0   \n",
       "2  INC0000045       Resolved    True                   0             0   \n",
       "3  INC0000045         Closed   False                   0             0   \n",
       "4  INC0000047            New    True                   0             0   \n",
       "\n",
       "   sys_mod_count  made_sla    caller_id       opened_by           opened_at  \\\n",
       "0              0      True  Caller 2403    Opened by  8 2016-02-29 01:16:00   \n",
       "1              2      True  Caller 2403    Opened by  8 2016-02-29 01:16:00   \n",
       "2              3      True  Caller 2403    Opened by  8 2016-02-29 01:16:00   \n",
       "3              4      True  Caller 2403    Opened by  8 2016-02-29 01:16:00   \n",
       "4              0      True  Caller 2403  Opened by  397 2016-02-29 04:40:00   \n",
       "\n",
       "   ...         notify problem_id rfc vendor caused_by closed_code  \\\n",
       "0  ...  Do Not Notify          ?   ?      ?         ?      code 5   \n",
       "1  ...  Do Not Notify          ?   ?      ?         ?      code 5   \n",
       "2  ...  Do Not Notify          ?   ?      ?         ?      code 5   \n",
       "3  ...  Do Not Notify          ?   ?      ?         ?      code 5   \n",
       "4  ...  Do Not Notify          ?   ?      ?         ?      code 5   \n",
       "\n",
       "       resolved_by         resolved_at       closed_at duration  \n",
       "0  Resolved by 149 2016-02-29 11:29:00  5/3/2016 12:00      0.4  \n",
       "1  Resolved by 149 2016-02-29 11:29:00  5/3/2016 12:00      0.4  \n",
       "2  Resolved by 149 2016-02-29 11:29:00  5/3/2016 12:00      0.4  \n",
       "3  Resolved by 149 2016-02-29 11:29:00  5/3/2016 12:00      0.4  \n",
       "4   Resolved by 81 2016-01-03 09:52:00  6/3/2016 10:00    -56.8  \n",
       "\n",
       "[5 rows x 37 columns]"
      ]
     },
     "execution_count": 9,
     "metadata": {},
     "output_type": "execute_result"
    }
   ],
   "source": [
    "df['duration']= df['duration'].dt.total_seconds() / 86400\n",
    "df['duration']= df['duration'].round(1)\n",
    "df.head(5)"
   ]
  },
  {
   "cell_type": "markdown",
   "metadata": {},
   "source": [
    "# L'ATTRIBUT 'duration' EST DONC NOTRE CIBLE (target)"
   ]
  },
  {
   "cell_type": "markdown",
   "metadata": {},
   "source": [
    "* ON REMARQUE QU'IL Y A DES DUREE NEGATIVE, CAD QUE DES MAUVAISES DATES ONT ETE RENTREES ( cad opened_at > resolved_at ). ON SUPPRIME ALORS CES LIGNES, QUI CORRESPONDENT A ENVIRON 3500 LIGNES, MAIS INUTILISABLES"
   ]
  },
  {
   "cell_type": "code",
   "execution_count": 10,
   "metadata": {},
   "outputs": [
    {
     "data": {
      "text/plain": [
       "(112572, 37)"
      ]
     },
     "execution_count": 10,
     "metadata": {},
     "output_type": "execute_result"
    }
   ],
   "source": [
    "indexneg = df[ df['duration'] < 0 ].index\n",
    "df.drop(indexneg , inplace=True)\n",
    "df.shape"
   ]
  },
  {
   "cell_type": "markdown",
   "metadata": {},
   "source": [
    "* ON CHECK LES AUTRES COLUMNES "
   ]
  },
  {
   "cell_type": "code",
   "execution_count": 11,
   "metadata": {},
   "outputs": [
    {
     "data": {
      "text/plain": [
       "Active                30372\n",
       "New                   29631\n",
       "Resolved              20835\n",
       "Closed                20303\n",
       "Awaiting User Info    10502\n",
       "Awaiting Vendor         535\n",
       "Awaiting Problem        355\n",
       "Awaiting Evidence        36\n",
       "-100                      3\n",
       "Name: incident_state, dtype: int64"
      ]
     },
     "execution_count": 11,
     "metadata": {},
     "output_type": "execute_result"
    }
   ],
   "source": [
    "df['incident_state'].value_counts()"
   ]
  },
  {
   "cell_type": "markdown",
   "metadata": {},
   "source": [
    "* ON DROP LES 3 VALEURS '-100'"
   ]
  },
  {
   "cell_type": "code",
   "execution_count": 12,
   "metadata": {},
   "outputs": [
    {
     "data": {
      "text/plain": [
       "Active                30372\n",
       "New                   29631\n",
       "Resolved              20835\n",
       "Closed                20303\n",
       "Awaiting User Info    10502\n",
       "Awaiting Vendor         535\n",
       "Awaiting Problem        355\n",
       "Awaiting Evidence        36\n",
       "Name: incident_state, dtype: int64"
      ]
     },
     "execution_count": 12,
     "metadata": {},
     "output_type": "execute_result"
    }
   ],
   "source": [
    "indexState = df[ df['incident_state'] == '-100' ].index\n",
    "df.drop(indexState , inplace=True)\n",
    "df['incident_state'].value_counts()"
   ]
  },
  {
   "cell_type": "code",
   "execution_count": 13,
   "metadata": {},
   "outputs": [
    {
     "data": {
      "text/plain": [
       "True     92265\n",
       "False    20304\n",
       "Name: active, dtype: int64"
      ]
     },
     "execution_count": 13,
     "metadata": {},
     "output_type": "execute_result"
    }
   ],
   "source": [
    "df['active'].value_counts()"
   ]
  },
  {
   "cell_type": "code",
   "execution_count": 14,
   "metadata": {},
   "outputs": [
    {
     "data": {
      "text/plain": [
       "0     57896\n",
       "1     29598\n",
       "2     11352\n",
       "3      5922\n",
       "4      3246\n",
       "5      1740\n",
       "6       986\n",
       "7       662\n",
       "8       388\n",
       "9       251\n",
       "10      192\n",
       "11      121\n",
       "12       79\n",
       "13       33\n",
       "14       33\n",
       "20       15\n",
       "15       13\n",
       "18       12\n",
       "17       10\n",
       "16        8\n",
       "19        6\n",
       "22        4\n",
       "21        2\n",
       "Name: reassignment_count, dtype: int64"
      ]
     },
     "execution_count": 14,
     "metadata": {},
     "output_type": "execute_result"
    }
   ],
   "source": [
    "df['reassignment_count'].value_counts()"
   ]
  },
  {
   "cell_type": "code",
   "execution_count": 15,
   "metadata": {},
   "outputs": [
    {
     "data": {
      "text/plain": [
       "0      20248\n",
       "1      18031\n",
       "2      17491\n",
       "3      12025\n",
       "4       8748\n",
       "5       6675\n",
       "6       5303\n",
       "7       4233\n",
       "8       3352\n",
       "9       2624\n",
       "10      2080\n",
       "11      1670\n",
       "12      1389\n",
       "13      1103\n",
       "14       910\n",
       "15       757\n",
       "16       619\n",
       "17       539\n",
       "18       458\n",
       "19       403\n",
       "20       321\n",
       "21       302\n",
       "22       265\n",
       "23       224\n",
       "24       201\n",
       "25       172\n",
       "27       153\n",
       "26       148\n",
       "28       134\n",
       "30       114\n",
       "       ...  \n",
       "94         6\n",
       "93         6\n",
       "88         6\n",
       "86         6\n",
       "83         6\n",
       "90         6\n",
       "89         5\n",
       "92         4\n",
       "101        3\n",
       "100        3\n",
       "99         3\n",
       "97         3\n",
       "96         3\n",
       "95         3\n",
       "116        2\n",
       "115        2\n",
       "114        2\n",
       "113        2\n",
       "85         2\n",
       "102        2\n",
       "98         2\n",
       "112        1\n",
       "106        1\n",
       "105        1\n",
       "103        1\n",
       "129        1\n",
       "84         1\n",
       "117        1\n",
       "128        1\n",
       "119        1\n",
       "Name: sys_mod_count, Length: 115, dtype: int64"
      ]
     },
     "execution_count": 15,
     "metadata": {},
     "output_type": "execute_result"
    }
   ],
   "source": [
    "df['sys_mod_count'].value_counts()"
   ]
  },
  {
   "cell_type": "code",
   "execution_count": 16,
   "metadata": {},
   "outputs": [
    {
     "data": {
      "text/plain": [
       "True     105946\n",
       "False      6623\n",
       "Name: made_sla, dtype: int64"
      ]
     },
     "execution_count": 16,
     "metadata": {},
     "output_type": "execute_result"
    }
   ],
   "source": [
    "df['made_sla'].value_counts()"
   ]
  },
  {
   "cell_type": "code",
   "execution_count": 17,
   "metadata": {},
   "outputs": [
    {
     "data": {
      "text/plain": [
       "Caller 1904    1409\n",
       "Caller 290      648\n",
       "Caller 4514     626\n",
       "Caller 1441     267\n",
       "Caller 298      238\n",
       "Caller 93       215\n",
       "Caller 90       213\n",
       "Caller 1531     207\n",
       "Caller 3763     202\n",
       "Caller 4414     184\n",
       "Caller 707      175\n",
       "Caller 156      174\n",
       "Caller 5317     171\n",
       "Caller 3870     170\n",
       "Caller 3160     169\n",
       "Caller 4893     168\n",
       "Caller 4808     166\n",
       "Caller 1517     165\n",
       "Caller 116      163\n",
       "Caller 2522     163\n",
       "Caller 363      162\n",
       "Caller 1325     160\n",
       "Caller 2471     158\n",
       "Caller 944      158\n",
       "Caller 3479     155\n",
       "Caller 5093     154\n",
       "Caller 994      154\n",
       "Caller 1353     154\n",
       "Caller 1129     151\n",
       "Caller 501      149\n",
       "               ... \n",
       "Caller 1189       3\n",
       "Caller 2930       3\n",
       "Caller 3553       3\n",
       "Caller 2129       3\n",
       "Caller 4385       3\n",
       "Caller 4891       3\n",
       "Caller 4130       3\n",
       "Caller 5449       3\n",
       "Caller 1091       3\n",
       "Caller 1180       3\n",
       "Caller 3441       3\n",
       "Caller 1343       3\n",
       "Caller 2673       3\n",
       "Caller 587        3\n",
       "Caller 5065       3\n",
       "Caller 326        3\n",
       "Caller 1815       3\n",
       "Caller 665        3\n",
       "Caller 664        2\n",
       "Caller 4831       2\n",
       "Caller 4800       2\n",
       "Caller 110        2\n",
       "Caller 3195       2\n",
       "Caller 4520       2\n",
       "Caller 989        2\n",
       "Caller 37         2\n",
       "Caller 3266       2\n",
       "Caller 4282       2\n",
       "Caller 2042       2\n",
       "Caller 5040       2\n",
       "Name: caller_id, Length: 4903, dtype: int64"
      ]
     },
     "execution_count": 17,
     "metadata": {},
     "output_type": "execute_result"
    }
   ],
   "source": [
    "df['caller_id'].value_counts()"
   ]
  },
  {
   "cell_type": "code",
   "execution_count": 18,
   "metadata": {},
   "outputs": [
    {
     "data": {
      "text/plain": [
       "Opened by  17     33873\n",
       "Opened by  24      6823\n",
       "Opened by  131     5896\n",
       "Opened by  55      4629\n",
       "Opened by  108     4583\n",
       "?                  3722\n",
       "Opened by  62      3592\n",
       "Opened by  40      3531\n",
       "Opened by  8       3449\n",
       "Opened by  501     3280\n",
       "Opened by  397     3158\n",
       "Opened by  386     3033\n",
       "Opened by  390     2548\n",
       "Opened by  180     2490\n",
       "Opened by  305     2482\n",
       "Opened by  301     2472\n",
       "Opened by  58      1990\n",
       "Opened by  221     1822\n",
       "Opened by  59      1696\n",
       "Opened by  239     1659\n",
       "Opened by  500     1299\n",
       "Opened by  94       965\n",
       "Opened by  463      874\n",
       "Opened by  47       791\n",
       "Opened by  443      752\n",
       "Opened by  444      564\n",
       "Opened by  240      498\n",
       "Opened by  402      475\n",
       "Opened by  460      473\n",
       "Opened by  468      427\n",
       "                  ...  \n",
       "Opened by  488        7\n",
       "Opened by  88         7\n",
       "Opened by  75         6\n",
       "Opened by  419        6\n",
       "Opened by  318        6\n",
       "Opened by  101        6\n",
       "Opened by  406        6\n",
       "Opened by  159        6\n",
       "Opened by  429        6\n",
       "Opened by  5          6\n",
       "Opened by  119        5\n",
       "Opened by  313        5\n",
       "Opened by  230        5\n",
       "Opened by  151        5\n",
       "Opened by  389        5\n",
       "Opened by  90         5\n",
       "Opened by  515        5\n",
       "Opened by  111        4\n",
       "Opened by  52         4\n",
       "Opened by  26         4\n",
       "Opened by  448        4\n",
       "Opened by  74         4\n",
       "Opened by  211        3\n",
       "Opened by  447        3\n",
       "Opened by  7          3\n",
       "Opened by  486        3\n",
       "Opened by  150        3\n",
       "Opened by  144        3\n",
       "Opened by  440        3\n",
       "Opened by  528        3\n",
       "Name: opened_by, Length: 197, dtype: int64"
      ]
     },
     "execution_count": 18,
     "metadata": {},
     "output_type": "execute_result"
    }
   ],
   "source": [
    "df['opened_by'].value_counts()"
   ]
  },
  {
   "cell_type": "code",
   "execution_count": 19,
   "metadata": {},
   "outputs": [
    {
     "data": {
      "text/plain": [
       "Do Not Notify    112493\n",
       "Send Email           76\n",
       "Name: notify, dtype: int64"
      ]
     },
     "execution_count": 19,
     "metadata": {},
     "output_type": "execute_result"
    }
   ],
   "source": [
    "df['notify'].value_counts()"
   ]
  },
  {
   "cell_type": "markdown",
   "metadata": {},
   "source": [
    "MALGRE QUE CERTAINES COLUMNES CONTIENNENT BEAUCOUP DE ? , ON NE PEUT PAS DROP LES ROWS ?, CAR TROP NOMBREUSES. ON DECIDE DE NE PAS DROP LA COLUMNES ENTIERE CAR LES INFORMATIONS RESTANTES CORRECTES PEUVENT NEANMOINS S'AVERRER TRES IMPORTANTE, NOTAMMENT SUR LA CATEGORIE 'probleme_id', ON GARDE DONC TEL QUEL"
   ]
  },
  {
   "cell_type": "code",
   "execution_count": 20,
   "metadata": {},
   "outputs": [
    {
     "data": {
      "text/plain": [
       "?                  110932\n",
       "Problem ID  52         82\n",
       "Problem ID  14         76\n",
       "Problem ID  239        48\n",
       "Problem ID  2          47\n",
       "Problem ID  95         40\n",
       "Problem ID  32         33\n",
       "Problem ID  7          29\n",
       "Problem ID  190        26\n",
       "Problem ID  110        21\n",
       "Problem ID  17         20\n",
       "Problem ID  141        17\n",
       "Problem ID  10         16\n",
       "Problem ID  144        16\n",
       "Problem ID  21         16\n",
       "Problem ID  137        16\n",
       "Problem ID  228        15\n",
       "Problem ID  135        15\n",
       "Problem ID  165        15\n",
       "Problem ID  199        14\n",
       "Problem ID  68         14\n",
       "Problem ID  125        14\n",
       "Problem ID  119        14\n",
       "Problem ID  91         14\n",
       "Problem ID  20         13\n",
       "Problem ID  217        13\n",
       "Problem ID  111        13\n",
       "Problem ID  45         13\n",
       "Problem ID  41         12\n",
       "Problem ID  167        12\n",
       "                    ...  \n",
       "Problem ID  62          2\n",
       "Problem ID  229         2\n",
       "Problem ID  117         2\n",
       "Problem ID  164         2\n",
       "Problem ID  161         2\n",
       "Problem ID  153         2\n",
       "Problem ID  155         2\n",
       "Problem ID  128         2\n",
       "Problem ID  200         2\n",
       "Problem ID  24          2\n",
       "Problem ID  136         2\n",
       "Problem ID  120         2\n",
       "Problem ID  122         2\n",
       "Problem ID  124         2\n",
       "Problem ID  148         2\n",
       "Problem ID  143         2\n",
       "Problem ID  196         2\n",
       "Problem ID  112         2\n",
       "Problem ID  259         2\n",
       "Problem ID  108         2\n",
       "Problem ID  133         2\n",
       "Problem ID  168         2\n",
       "Problem ID  134         2\n",
       "Problem ID  201         2\n",
       "Problem ID  177         2\n",
       "Problem ID  106         2\n",
       "Problem ID  195         1\n",
       "Problem ID  33          1\n",
       "Problem ID  11          1\n",
       "Problem ID  88          1\n",
       "Name: problem_id, Length: 203, dtype: int64"
      ]
     },
     "execution_count": 20,
     "metadata": {},
     "output_type": "execute_result"
    }
   ],
   "source": [
    "df['problem_id'].value_counts()"
   ]
  },
  {
   "cell_type": "code",
   "execution_count": 21,
   "metadata": {},
   "outputs": [
    {
     "data": {
      "text/plain": [
       "?             111822\n",
       "CHG0000132        20\n",
       "CHG0000047        18\n",
       "CHG0001656        17\n",
       "CHG0001398        15\n",
       "CHG0003516        15\n",
       "CHG0003167        13\n",
       "CHG0000932        12\n",
       "CHG0000342        12\n",
       "CHG0000959        12\n",
       "CHG0000097        11\n",
       "CHG0001530        11\n",
       "CHG0001126        10\n",
       "CHG0000910        10\n",
       "CHG0000089         9\n",
       "CHG0003447         9\n",
       "CHG0001863         9\n",
       "CHG0001073         9\n",
       "CHG0000585         9\n",
       "CHG0001006         9\n",
       "CHG0001043         8\n",
       "CHG0001442         8\n",
       "CHG0002096         8\n",
       "CHG0001222         8\n",
       "CHG0000293         8\n",
       "CHG0001920         8\n",
       "CHG0001301         8\n",
       "CHG0001210         8\n",
       "CHG0001002         8\n",
       "CHG0001943         8\n",
       "               ...  \n",
       "CHG0000708         3\n",
       "CHG0001462         3\n",
       "CHG0000872         3\n",
       "CHG0000752         3\n",
       "CHG0001653         3\n",
       "CHG0001767         3\n",
       "CHG0000819         3\n",
       "CHG0000886         3\n",
       "CHG0000879         3\n",
       "CHG0000870         3\n",
       "CHG0000887         3\n",
       "CHG0000914         3\n",
       "CHG0000576         3\n",
       "CHG0001685         3\n",
       "CHG0001444         3\n",
       "CHG0000868         3\n",
       "CHG0000771         3\n",
       "CHG0000925         3\n",
       "CHG0000852         3\n",
       "CHG0000558         3\n",
       "CHG0000866         3\n",
       "CHG0001419         3\n",
       "CHG0001447         3\n",
       "CHG0000404         3\n",
       "CHG0000765         3\n",
       "CHG0000540         2\n",
       "CHG0001482         2\n",
       "CHG0003305         2\n",
       "CHG0000355         2\n",
       "CHG0001829         1\n",
       "Name: rfc, Length: 129, dtype: int64"
      ]
     },
     "execution_count": 21,
     "metadata": {},
     "output_type": "execute_result"
    }
   ],
   "source": [
    "df['rfc'].value_counts()"
   ]
  },
  {
   "cell_type": "code",
   "execution_count": 22,
   "metadata": {},
   "outputs": [
    {
     "data": {
      "text/plain": [
       "?           112397\n",
       "code 8s        113\n",
       "Vendor 1        53\n",
       "Vendor 3         4\n",
       "Vendor 2         2\n",
       "Name: vendor, dtype: int64"
      ]
     },
     "execution_count": 22,
     "metadata": {},
     "output_type": "execute_result"
    }
   ],
   "source": [
    "df['vendor'].value_counts()"
   ]
  },
  {
   "cell_type": "code",
   "execution_count": 23,
   "metadata": {},
   "outputs": [
    {
     "data": {
      "text/plain": [
       "Resolved by 15     11771\n",
       "Resolved by 11     10062\n",
       "Resolved by 103     4275\n",
       "Resolved by 177     3427\n",
       "Resolved by 53      2793\n",
       "Resolved by 62      2662\n",
       "Resolved by 166     2120\n",
       "Resolved by 180     1975\n",
       "Resolved by 22      1897\n",
       "Resolved by 133     1888\n",
       "Resolved by 227     1879\n",
       "Resolved by 66      1871\n",
       "Resolved by 32      1705\n",
       "Resolved by 196     1676\n",
       "Resolved by 71      1664\n",
       "Resolved by 215     1649\n",
       "Resolved by 85      1528\n",
       "Resolved by 126     1485\n",
       "Resolved by 30      1467\n",
       "Resolved by 114     1399\n",
       "Resolved by 113     1270\n",
       "Resolved by 134     1250\n",
       "Resolved by 212     1187\n",
       "Resolved by 33      1176\n",
       "Resolved by 27      1171\n",
       "Resolved by 208     1137\n",
       "Resolved by 231     1084\n",
       "Resolved by 153     1079\n",
       "Resolved by 183     1011\n",
       "Resolved by 169      973\n",
       "                   ...  \n",
       "Resolved by 136       11\n",
       "Resolved by 210       11\n",
       "Resolved by 145       11\n",
       "Resolved by 56        11\n",
       "Resolved by 229       11\n",
       "Resolved by 105       10\n",
       "Resolved by 149       10\n",
       "Resolved by 156       10\n",
       "Resolved by 55         9\n",
       "Resolved by 148        9\n",
       "Resolved by 164        8\n",
       "Resolved by 18         8\n",
       "Resolved by 26         7\n",
       "Resolved by 162        7\n",
       "Resolved by 168        6\n",
       "Resolved by 110        6\n",
       "Resolved by 93         6\n",
       "Resolved by 219        6\n",
       "Resolved by 4          6\n",
       "Resolved by 43         5\n",
       "Resolved by 187        5\n",
       "Resolved by 74         5\n",
       "Resolved by 201        5\n",
       "Resolved by 157        5\n",
       "Resolved by 222        4\n",
       "Resolved by 17         4\n",
       "Resolved by 48         3\n",
       "Resolved by 185        3\n",
       "Resolved by 142        3\n",
       "Resolved by 39         3\n",
       "Name: resolved_by, Length: 215, dtype: int64"
      ]
     },
     "execution_count": 23,
     "metadata": {},
     "output_type": "execute_result"
    }
   ],
   "source": [
    "df['resolved_by'].value_counts()"
   ]
  },
  {
   "cell_type": "code",
   "execution_count": 24,
   "metadata": {},
   "outputs": [
    {
     "data": {
      "text/plain": [
       "?             112546\n",
       "CHG0000097        11\n",
       "CHG0000132         7\n",
       "CHG0001327         5\n",
       "Name: caused_by, dtype: int64"
      ]
     },
     "execution_count": 24,
     "metadata": {},
     "output_type": "execute_result"
    }
   ],
   "source": [
    "df['caused_by'].value_counts()"
   ]
  },
  {
   "cell_type": "markdown",
   "metadata": {},
   "source": [
    "* ON DROP LES COLONNES QUI A LA FOIS ONT TROP DE ? ET QUI SEMBLENT PEU IMPORTANTE, EN PRENANT EN COMPTE LES CONSEQUENCE SI ON DOIT LES GARDER AVEC TOUS CES ?"
   ]
  },
  {
   "cell_type": "code",
   "execution_count": 25,
   "metadata": {},
   "outputs": [],
   "source": [
    "df = df.drop(columns=['vendor', 'caused_by','rfc','sys_created_at','cmdb_ci','assigned_to'])"
   ]
  },
  {
   "cell_type": "raw",
   "metadata": {},
   "source": [
    "MAINTENANT QUE NOUS AVONS LA COLUMNES DURATION, ET QUE NOUS AVONS INSPECTE LE RESTE, ON DROP LES COLUMNES opened_at , resolved_at et closed_at ( l'important étant de connaitre la date de resolution, la date de cloture du ticket est a priori inutile)"
   ]
  },
  {
   "cell_type": "code",
   "execution_count": 27,
   "metadata": {
    "scrolled": false
   },
   "outputs": [
    {
     "data": {
      "text/html": [
       "<div>\n",
       "<style scoped>\n",
       "    .dataframe tbody tr th:only-of-type {\n",
       "        vertical-align: middle;\n",
       "    }\n",
       "\n",
       "    .dataframe tbody tr th {\n",
       "        vertical-align: top;\n",
       "    }\n",
       "\n",
       "    .dataframe thead th {\n",
       "        text-align: right;\n",
       "    }\n",
       "</style>\n",
       "<table border=\"1\" class=\"dataframe\">\n",
       "  <thead>\n",
       "    <tr style=\"text-align: right;\">\n",
       "      <th></th>\n",
       "      <th>number</th>\n",
       "      <th>incident_state</th>\n",
       "      <th>active</th>\n",
       "      <th>reassignment_count</th>\n",
       "      <th>reopen_count</th>\n",
       "      <th>sys_mod_count</th>\n",
       "      <th>made_sla</th>\n",
       "      <th>caller_id</th>\n",
       "      <th>opened_by</th>\n",
       "      <th>sys_created_by</th>\n",
       "      <th>...</th>\n",
       "      <th>knowledge</th>\n",
       "      <th>u_priority_confirmation</th>\n",
       "      <th>notify</th>\n",
       "      <th>problem_id</th>\n",
       "      <th>rfc</th>\n",
       "      <th>vendor</th>\n",
       "      <th>caused_by</th>\n",
       "      <th>closed_code</th>\n",
       "      <th>resolved_by</th>\n",
       "      <th>duration</th>\n",
       "    </tr>\n",
       "  </thead>\n",
       "  <tbody>\n",
       "    <tr>\n",
       "      <th>0</th>\n",
       "      <td>INC0000045</td>\n",
       "      <td>New</td>\n",
       "      <td>True</td>\n",
       "      <td>0</td>\n",
       "      <td>0</td>\n",
       "      <td>0</td>\n",
       "      <td>True</td>\n",
       "      <td>Caller 2403</td>\n",
       "      <td>Opened by  8</td>\n",
       "      <td>Created by 6</td>\n",
       "      <td>...</td>\n",
       "      <td>True</td>\n",
       "      <td>False</td>\n",
       "      <td>Do Not Notify</td>\n",
       "      <td>?</td>\n",
       "      <td>0</td>\n",
       "      <td>0</td>\n",
       "      <td>0</td>\n",
       "      <td>code 5</td>\n",
       "      <td>Resolved by 149</td>\n",
       "      <td>0.4</td>\n",
       "    </tr>\n",
       "    <tr>\n",
       "      <th>1</th>\n",
       "      <td>INC0000045</td>\n",
       "      <td>Resolved</td>\n",
       "      <td>True</td>\n",
       "      <td>0</td>\n",
       "      <td>0</td>\n",
       "      <td>2</td>\n",
       "      <td>True</td>\n",
       "      <td>Caller 2403</td>\n",
       "      <td>Opened by  8</td>\n",
       "      <td>Created by 6</td>\n",
       "      <td>...</td>\n",
       "      <td>True</td>\n",
       "      <td>False</td>\n",
       "      <td>Do Not Notify</td>\n",
       "      <td>?</td>\n",
       "      <td>0</td>\n",
       "      <td>0</td>\n",
       "      <td>0</td>\n",
       "      <td>code 5</td>\n",
       "      <td>Resolved by 149</td>\n",
       "      <td>0.4</td>\n",
       "    </tr>\n",
       "    <tr>\n",
       "      <th>2</th>\n",
       "      <td>INC0000045</td>\n",
       "      <td>Resolved</td>\n",
       "      <td>True</td>\n",
       "      <td>0</td>\n",
       "      <td>0</td>\n",
       "      <td>3</td>\n",
       "      <td>True</td>\n",
       "      <td>Caller 2403</td>\n",
       "      <td>Opened by  8</td>\n",
       "      <td>Created by 6</td>\n",
       "      <td>...</td>\n",
       "      <td>True</td>\n",
       "      <td>False</td>\n",
       "      <td>Do Not Notify</td>\n",
       "      <td>?</td>\n",
       "      <td>0</td>\n",
       "      <td>0</td>\n",
       "      <td>0</td>\n",
       "      <td>code 5</td>\n",
       "      <td>Resolved by 149</td>\n",
       "      <td>0.4</td>\n",
       "    </tr>\n",
       "    <tr>\n",
       "      <th>3</th>\n",
       "      <td>INC0000045</td>\n",
       "      <td>Closed</td>\n",
       "      <td>False</td>\n",
       "      <td>0</td>\n",
       "      <td>0</td>\n",
       "      <td>4</td>\n",
       "      <td>True</td>\n",
       "      <td>Caller 2403</td>\n",
       "      <td>Opened by  8</td>\n",
       "      <td>Created by 6</td>\n",
       "      <td>...</td>\n",
       "      <td>True</td>\n",
       "      <td>False</td>\n",
       "      <td>Do Not Notify</td>\n",
       "      <td>?</td>\n",
       "      <td>0</td>\n",
       "      <td>0</td>\n",
       "      <td>0</td>\n",
       "      <td>code 5</td>\n",
       "      <td>Resolved by 149</td>\n",
       "      <td>0.4</td>\n",
       "    </tr>\n",
       "    <tr>\n",
       "      <th>24</th>\n",
       "      <td>INC0000062</td>\n",
       "      <td>New</td>\n",
       "      <td>True</td>\n",
       "      <td>0</td>\n",
       "      <td>0</td>\n",
       "      <td>0</td>\n",
       "      <td>True</td>\n",
       "      <td>Caller 3765</td>\n",
       "      <td>Opened by  180</td>\n",
       "      <td>Created by 81</td>\n",
       "      <td>...</td>\n",
       "      <td>True</td>\n",
       "      <td>False</td>\n",
       "      <td>Do Not Notify</td>\n",
       "      <td>?</td>\n",
       "      <td>0</td>\n",
       "      <td>0</td>\n",
       "      <td>0</td>\n",
       "      <td>code 7</td>\n",
       "      <td>Resolved by 62</td>\n",
       "      <td>0.4</td>\n",
       "    </tr>\n",
       "  </tbody>\n",
       "</table>\n",
       "<p>5 rows × 33 columns</p>\n",
       "</div>"
      ],
      "text/plain": [
       "        number incident_state  active  reassignment_count  reopen_count  \\\n",
       "0   INC0000045            New    True                   0             0   \n",
       "1   INC0000045       Resolved    True                   0             0   \n",
       "2   INC0000045       Resolved    True                   0             0   \n",
       "3   INC0000045         Closed   False                   0             0   \n",
       "24  INC0000062            New    True                   0             0   \n",
       "\n",
       "    sys_mod_count  made_sla    caller_id       opened_by sys_created_by  ...  \\\n",
       "0               0      True  Caller 2403    Opened by  8   Created by 6  ...   \n",
       "1               2      True  Caller 2403    Opened by  8   Created by 6  ...   \n",
       "2               3      True  Caller 2403    Opened by  8   Created by 6  ...   \n",
       "3               4      True  Caller 2403    Opened by  8   Created by 6  ...   \n",
       "24              0      True  Caller 3765  Opened by  180  Created by 81  ...   \n",
       "\n",
       "   knowledge u_priority_confirmation         notify problem_id rfc vendor  \\\n",
       "0       True                   False  Do Not Notify          ?   0      0   \n",
       "1       True                   False  Do Not Notify          ?   0      0   \n",
       "2       True                   False  Do Not Notify          ?   0      0   \n",
       "3       True                   False  Do Not Notify          ?   0      0   \n",
       "24      True                   False  Do Not Notify          ?   0      0   \n",
       "\n",
       "   caused_by  closed_code      resolved_by duration  \n",
       "0          0       code 5  Resolved by 149      0.4  \n",
       "1          0       code 5  Resolved by 149      0.4  \n",
       "2          0       code 5  Resolved by 149      0.4  \n",
       "3          0       code 5  Resolved by 149      0.4  \n",
       "24         0       code 7   Resolved by 62      0.4  \n",
       "\n",
       "[5 rows x 33 columns]"
      ]
     },
     "execution_count": 27,
     "metadata": {},
     "output_type": "execute_result"
    }
   ],
   "source": [
    "df = df.drop(columns=['opened_at', 'resolved_at','closed_at'])\n",
    "df.head(5)"
   ]
  },
  {
   "cell_type": "markdown",
   "metadata": {},
   "source": [
    "* VOICI LES ATTRIBUTS QUI ONT ETE GARDES"
   ]
  },
  {
   "cell_type": "code",
   "execution_count": 28,
   "metadata": {},
   "outputs": [
    {
     "data": {
      "text/plain": [
       "Index(['number', 'incident_state', 'active', 'reassignment_count',\n",
       "       'reopen_count', 'sys_mod_count', 'made_sla', 'caller_id', 'opened_by',\n",
       "       'sys_created_by', 'sys_updated_by', 'sys_updated_at', 'contact_type',\n",
       "       'location', 'category', 'subcategory', 'u_symptom', 'cmdb_ci', 'impact',\n",
       "       'urgency', 'priority', 'assignment_group', 'assigned_to', 'knowledge',\n",
       "       'u_priority_confirmation', 'notify', 'problem_id', 'rfc', 'vendor',\n",
       "       'caused_by', 'closed_code', 'resolved_by', 'duration'],\n",
       "      dtype='object')"
      ]
     },
     "execution_count": 28,
     "metadata": {},
     "output_type": "execute_result"
    }
   ],
   "source": [
    "df.columns"
   ]
  },
  {
   "cell_type": "markdown",
   "metadata": {},
   "source": [
    "* ON RECUPERE L'HEURE D'UPDATE (ENTRE 0 ET 24) POUR CET ATTRIBUT. CELA N'A PAS ETE FAIT POUR D'AUTRES ATTRIBUTS COMME sys_created_at CAR IL Y AVAIT BEAUCOUP TROP DE ? , DONC IL A ETE DROP PRECEDEMMENT"
   ]
  },
  {
   "cell_type": "code",
   "execution_count": 29,
   "metadata": {},
   "outputs": [],
   "source": [
    "def hr_func(ts):\n",
    "    return ts.hour"
   ]
  },
  {
   "cell_type": "code",
   "execution_count": 30,
   "metadata": {},
   "outputs": [],
   "source": [
    "df['sys_updated_at'] = pd.to_datetime(df[\"sys_updated_at\"])\n",
    "df['sys_updated_at'] = df['sys_updated_at'].apply(hr_func)"
   ]
  },
  {
   "cell_type": "code",
   "execution_count": 31,
   "metadata": {},
   "outputs": [
    {
     "data": {
      "text/plain": [
       "10    12180\n",
       "11    11955\n",
       "9     11763\n",
       "15    10599\n",
       "14    10214\n",
       "16     9958\n",
       "8      8211\n",
       "12     7168\n",
       "17     6994\n",
       "13     6627\n",
       "18     4760\n",
       "19     2438\n",
       "7      1356\n",
       "21     1087\n",
       "22      985\n",
       "20      980\n",
       "1       934\n",
       "0       790\n",
       "2       733\n",
       "23      722\n",
       "6       691\n",
       "3       507\n",
       "4       498\n",
       "5       419\n",
       "Name: sys_updated_at, dtype: int64"
      ]
     },
     "execution_count": 31,
     "metadata": {},
     "output_type": "execute_result"
    }
   ],
   "source": [
    "df['sys_updated_at'].value_counts()"
   ]
  },
  {
   "cell_type": "markdown",
   "metadata": {},
   "source": [
    "#  3) CONVERSION DES DONNES STRING CATEGORICAL EN INT CATEGORICAL "
   ]
  },
  {
   "cell_type": "markdown",
   "metadata": {},
   "source": [
    "* POUR APPLIQUER LA REGRESSION ET CORRELATION SUR LES ATTRIBUTS, CEUX-CI DOIVENT ETRE MIS SOUS FORME D'ENTIER. ON TRANSFORME DONC LES STRING CATEGORICAL EN INT EN S'ASSURANT BIEN QUE LEUR ASTYPE EST CATEGORY"
   ]
  },
  {
   "cell_type": "code",
   "execution_count": 32,
   "metadata": {},
   "outputs": [],
   "source": [
    "df['incident_state'] = df['incident_state'].astype('category')\n",
    "df['incident_state'] = df['incident_state'].cat.codes"
   ]
  },
  {
   "cell_type": "code",
   "execution_count": 33,
   "metadata": {},
   "outputs": [],
   "source": [
    "df['active'] = df['active'].astype('category')\n",
    "df['active'] = df['active'].cat.codes"
   ]
  },
  {
   "cell_type": "code",
   "execution_count": 34,
   "metadata": {},
   "outputs": [],
   "source": [
    "df['number'] = df['number'].astype('category')\n",
    "df['number'] = df['number'].cat.codes"
   ]
  },
  {
   "cell_type": "code",
   "execution_count": 35,
   "metadata": {},
   "outputs": [],
   "source": [
    "df['made_sla'] = df['made_sla'].astype('category')\n",
    "df['made_sla'] = df['made_sla'].cat.codes"
   ]
  },
  {
   "cell_type": "code",
   "execution_count": 36,
   "metadata": {},
   "outputs": [],
   "source": [
    "df['caller_id'] = df['caller_id'].astype('category')\n",
    "df['caller_id'] = df['caller_id'].cat.codes"
   ]
  },
  {
   "cell_type": "code",
   "execution_count": 37,
   "metadata": {},
   "outputs": [],
   "source": [
    "df['opened_by'] = df['opened_by'].astype('category')\n",
    "df['opened_by'] = df['opened_by'].cat.codes"
   ]
  },
  {
   "cell_type": "code",
   "execution_count": 38,
   "metadata": {},
   "outputs": [],
   "source": [
    "df['sys_created_by'] = df['sys_created_by'].astype('category')\n",
    "df['sys_created_by'] = df['sys_created_by'].cat.codes"
   ]
  },
  {
   "cell_type": "code",
   "execution_count": 39,
   "metadata": {},
   "outputs": [],
   "source": [
    "df['sys_updated_by'] = df['sys_updated_by'].astype('category')\n",
    "df['sys_updated_by'] = df['sys_updated_by'].cat.codes"
   ]
  },
  {
   "cell_type": "code",
   "execution_count": 40,
   "metadata": {},
   "outputs": [],
   "source": [
    "df['sys_updated_at'] = df['sys_updated_at'].astype('category')\n",
    "df['sys_updated_at'] = df['sys_updated_at'].cat.codes"
   ]
  },
  {
   "cell_type": "code",
   "execution_count": 41,
   "metadata": {},
   "outputs": [],
   "source": [
    "df['contact_type'] = df['contact_type'].astype('category')\n",
    "df['contact_type'] = df['contact_type'].cat.codes"
   ]
  },
  {
   "cell_type": "code",
   "execution_count": 42,
   "metadata": {},
   "outputs": [],
   "source": [
    "df['location'] = df['location'].astype('category')\n",
    "df['location'] = df['location'].cat.codes"
   ]
  },
  {
   "cell_type": "code",
   "execution_count": 43,
   "metadata": {},
   "outputs": [],
   "source": [
    "df['category'] = df['category'].astype('category')\n",
    "df['category'] = df['category'].cat.codes"
   ]
  },
  {
   "cell_type": "code",
   "execution_count": 44,
   "metadata": {},
   "outputs": [],
   "source": [
    "df['subcategory'] = df['subcategory'].astype('category')\n",
    "df['subcategory'] = df['subcategory'].cat.codes"
   ]
  },
  {
   "cell_type": "code",
   "execution_count": 45,
   "metadata": {},
   "outputs": [],
   "source": [
    "df['u_symptom'] = df['u_symptom'].astype('category')\n",
    "df['u_symptom'] = df['u_symptom'].cat.codes"
   ]
  },
  {
   "cell_type": "code",
   "execution_count": 46,
   "metadata": {},
   "outputs": [],
   "source": [
    "df['impact'] = df['impact'].astype('category')\n",
    "df['impact'] = df['impact'].cat.codes"
   ]
  },
  {
   "cell_type": "code",
   "execution_count": 47,
   "metadata": {},
   "outputs": [],
   "source": [
    "df['urgency'] = df['urgency'].astype('category')\n",
    "df['urgency'] = df['urgency'].cat.codes"
   ]
  },
  {
   "cell_type": "code",
   "execution_count": 48,
   "metadata": {},
   "outputs": [],
   "source": [
    "df['priority'] = df['priority'].astype('category')\n",
    "df['priority'] = df['priority'].cat.codes"
   ]
  },
  {
   "cell_type": "code",
   "execution_count": 49,
   "metadata": {},
   "outputs": [],
   "source": [
    "df['assignment_group'] = df['assignment_group'].astype('category')\n",
    "df['assignment_group'] = df['assignment_group'].cat.codes"
   ]
  },
  {
   "cell_type": "code",
   "execution_count": 50,
   "metadata": {},
   "outputs": [],
   "source": [
    "df['knowledge'] = df['knowledge'].astype('category')\n",
    "df['knowledge'] = df['knowledge'].cat.codes"
   ]
  },
  {
   "cell_type": "code",
   "execution_count": 51,
   "metadata": {},
   "outputs": [],
   "source": [
    "df['u_priority_confirmation'] = df['u_priority_confirmation'].astype('category')\n",
    "df['u_priority_confirmation'] = df['u_priority_confirmation'].cat.codes"
   ]
  },
  {
   "cell_type": "code",
   "execution_count": 52,
   "metadata": {},
   "outputs": [],
   "source": [
    "df['notify'] = df['notify'].astype('category')\n",
    "df['notify'] = df['notify'].cat.codes"
   ]
  },
  {
   "cell_type": "code",
   "execution_count": 53,
   "metadata": {},
   "outputs": [],
   "source": [
    "df['problem_id'] = df['problem_id'].astype('category')\n",
    "df['problem_id'] = df['problem_id'].cat.codes"
   ]
  },
  {
   "cell_type": "code",
   "execution_count": 54,
   "metadata": {},
   "outputs": [],
   "source": [
    "df['closed_code'] = df['closed_code'].astype('category')\n",
    "df['closed_code'] = df['closed_code'].cat.codes"
   ]
  },
  {
   "cell_type": "code",
   "execution_count": 55,
   "metadata": {},
   "outputs": [],
   "source": [
    "df['resolved_by'] = df['resolved_by'].astype('category')\n",
    "df['resolved_by'] = df['resolved_by'].cat.codes"
   ]
  },
  {
   "cell_type": "code",
   "execution_count": 56,
   "metadata": {},
   "outputs": [],
   "source": [
    "df['notify'] = df['notify'].astype('category')\n",
    "df['notify'] = df['notify'].cat.codes"
   ]
  },
  {
   "cell_type": "code",
   "execution_count": 57,
   "metadata": {},
   "outputs": [],
   "source": [
    "df['duration'] = df['duration'].astype('float')"
   ]
  },
  {
   "cell_type": "code",
   "execution_count": 58,
   "metadata": {},
   "outputs": [
    {
     "data": {
      "text/html": [
       "<div>\n",
       "<style scoped>\n",
       "    .dataframe tbody tr th:only-of-type {\n",
       "        vertical-align: middle;\n",
       "    }\n",
       "\n",
       "    .dataframe tbody tr th {\n",
       "        vertical-align: top;\n",
       "    }\n",
       "\n",
       "    .dataframe thead th {\n",
       "        text-align: right;\n",
       "    }\n",
       "</style>\n",
       "<table border=\"1\" class=\"dataframe\">\n",
       "  <thead>\n",
       "    <tr style=\"text-align: right;\">\n",
       "      <th></th>\n",
       "      <th>number</th>\n",
       "      <th>incident_state</th>\n",
       "      <th>active</th>\n",
       "      <th>reassignment_count</th>\n",
       "      <th>reopen_count</th>\n",
       "      <th>sys_mod_count</th>\n",
       "      <th>made_sla</th>\n",
       "      <th>caller_id</th>\n",
       "      <th>opened_by</th>\n",
       "      <th>sys_created_by</th>\n",
       "      <th>...</th>\n",
       "      <th>knowledge</th>\n",
       "      <th>u_priority_confirmation</th>\n",
       "      <th>notify</th>\n",
       "      <th>problem_id</th>\n",
       "      <th>rfc</th>\n",
       "      <th>vendor</th>\n",
       "      <th>caused_by</th>\n",
       "      <th>closed_code</th>\n",
       "      <th>resolved_by</th>\n",
       "      <th>duration</th>\n",
       "    </tr>\n",
       "  </thead>\n",
       "  <tbody>\n",
       "    <tr>\n",
       "      <th>0</th>\n",
       "      <td>0</td>\n",
       "      <td>6</td>\n",
       "      <td>1</td>\n",
       "      <td>0</td>\n",
       "      <td>0</td>\n",
       "      <td>0</td>\n",
       "      <td>1</td>\n",
       "      <td>1357</td>\n",
       "      <td>191</td>\n",
       "      <td>146</td>\n",
       "      <td>...</td>\n",
       "      <td>1</td>\n",
       "      <td>0</td>\n",
       "      <td>0</td>\n",
       "      <td>0</td>\n",
       "      <td>0</td>\n",
       "      <td>0</td>\n",
       "      <td>0</td>\n",
       "      <td>13</td>\n",
       "      <td>52</td>\n",
       "      <td>0.4</td>\n",
       "    </tr>\n",
       "    <tr>\n",
       "      <th>1</th>\n",
       "      <td>0</td>\n",
       "      <td>7</td>\n",
       "      <td>1</td>\n",
       "      <td>0</td>\n",
       "      <td>0</td>\n",
       "      <td>2</td>\n",
       "      <td>1</td>\n",
       "      <td>1357</td>\n",
       "      <td>191</td>\n",
       "      <td>146</td>\n",
       "      <td>...</td>\n",
       "      <td>1</td>\n",
       "      <td>0</td>\n",
       "      <td>0</td>\n",
       "      <td>0</td>\n",
       "      <td>0</td>\n",
       "      <td>0</td>\n",
       "      <td>0</td>\n",
       "      <td>13</td>\n",
       "      <td>52</td>\n",
       "      <td>0.4</td>\n",
       "    </tr>\n",
       "    <tr>\n",
       "      <th>2</th>\n",
       "      <td>0</td>\n",
       "      <td>7</td>\n",
       "      <td>1</td>\n",
       "      <td>0</td>\n",
       "      <td>0</td>\n",
       "      <td>3</td>\n",
       "      <td>1</td>\n",
       "      <td>1357</td>\n",
       "      <td>191</td>\n",
       "      <td>146</td>\n",
       "      <td>...</td>\n",
       "      <td>1</td>\n",
       "      <td>0</td>\n",
       "      <td>0</td>\n",
       "      <td>0</td>\n",
       "      <td>0</td>\n",
       "      <td>0</td>\n",
       "      <td>0</td>\n",
       "      <td>13</td>\n",
       "      <td>52</td>\n",
       "      <td>0.4</td>\n",
       "    </tr>\n",
       "    <tr>\n",
       "      <th>3</th>\n",
       "      <td>0</td>\n",
       "      <td>5</td>\n",
       "      <td>0</td>\n",
       "      <td>0</td>\n",
       "      <td>0</td>\n",
       "      <td>4</td>\n",
       "      <td>1</td>\n",
       "      <td>1357</td>\n",
       "      <td>191</td>\n",
       "      <td>146</td>\n",
       "      <td>...</td>\n",
       "      <td>1</td>\n",
       "      <td>0</td>\n",
       "      <td>0</td>\n",
       "      <td>0</td>\n",
       "      <td>0</td>\n",
       "      <td>0</td>\n",
       "      <td>0</td>\n",
       "      <td>13</td>\n",
       "      <td>52</td>\n",
       "      <td>0.4</td>\n",
       "    </tr>\n",
       "    <tr>\n",
       "      <th>24</th>\n",
       "      <td>1</td>\n",
       "      <td>6</td>\n",
       "      <td>1</td>\n",
       "      <td>0</td>\n",
       "      <td>0</td>\n",
       "      <td>0</td>\n",
       "      <td>1</td>\n",
       "      <td>2684</td>\n",
       "      <td>33</td>\n",
       "      <td>164</td>\n",
       "      <td>...</td>\n",
       "      <td>1</td>\n",
       "      <td>0</td>\n",
       "      <td>0</td>\n",
       "      <td>0</td>\n",
       "      <td>0</td>\n",
       "      <td>0</td>\n",
       "      <td>0</td>\n",
       "      <td>15</td>\n",
       "      <td>178</td>\n",
       "      <td>0.4</td>\n",
       "    </tr>\n",
       "  </tbody>\n",
       "</table>\n",
       "<p>5 rows × 33 columns</p>\n",
       "</div>"
      ],
      "text/plain": [
       "    number  incident_state  active  reassignment_count  reopen_count  \\\n",
       "0        0               6       1                   0             0   \n",
       "1        0               7       1                   0             0   \n",
       "2        0               7       1                   0             0   \n",
       "3        0               5       0                   0             0   \n",
       "24       1               6       1                   0             0   \n",
       "\n",
       "    sys_mod_count  made_sla  caller_id  opened_by  sys_created_by  ...  \\\n",
       "0               0         1       1357        191             146  ...   \n",
       "1               2         1       1357        191             146  ...   \n",
       "2               3         1       1357        191             146  ...   \n",
       "3               4         1       1357        191             146  ...   \n",
       "24              0         1       2684         33             164  ...   \n",
       "\n",
       "    knowledge  u_priority_confirmation  notify  problem_id  rfc  vendor  \\\n",
       "0           1                        0       0           0    0       0   \n",
       "1           1                        0       0           0    0       0   \n",
       "2           1                        0       0           0    0       0   \n",
       "3           1                        0       0           0    0       0   \n",
       "24          1                        0       0           0    0       0   \n",
       "\n",
       "    caused_by  closed_code  resolved_by  duration  \n",
       "0           0           13           52       0.4  \n",
       "1           0           13           52       0.4  \n",
       "2           0           13           52       0.4  \n",
       "3           0           13           52       0.4  \n",
       "24          0           15          178       0.4  \n",
       "\n",
       "[5 rows x 33 columns]"
      ]
     },
     "execution_count": 58,
     "metadata": {},
     "output_type": "execute_result"
    }
   ],
   "source": [
    "df.head(5)"
   ]
  },
  {
   "cell_type": "code",
   "execution_count": 59,
   "metadata": {},
   "outputs": [
    {
     "data": {
      "text/plain": [
       "(112569, 33)"
      ]
     },
     "execution_count": 59,
     "metadata": {},
     "output_type": "execute_result"
    }
   ],
   "source": [
    "df.shape"
   ]
  },
  {
   "cell_type": "code",
   "execution_count": 60,
   "metadata": {},
   "outputs": [
    {
     "data": {
      "text/plain": [
       "count    112569.000000\n",
       "mean         34.859300\n",
       "std          61.366134\n",
       "min           0.000000\n",
       "25%           0.100000\n",
       "50%           4.000000\n",
       "75%          35.900000\n",
       "max         534.900000\n",
       "Name: duration, dtype: float64"
      ]
     },
     "execution_count": 60,
     "metadata": {},
     "output_type": "execute_result"
    }
   ],
   "source": [
    "df.duration.describe()"
   ]
  },
  {
   "cell_type": "markdown",
   "metadata": {},
   "source": [
    "#  4) LIEN ENTRE VARIABLES (Columnes) ET CIBLE ('duration')"
   ]
  },
  {
   "cell_type": "code",
   "execution_count": 61,
   "metadata": {},
   "outputs": [],
   "source": [
    "import numpy as np\n",
    "import seaborn as sns; \n",
    "import matplotlib.pyplot as plt"
   ]
  },
  {
   "cell_type": "markdown",
   "metadata": {},
   "source": [
    "* ON AFFICHE LA MATRICE DE CORRELATION ( PANDAS)"
   ]
  },
  {
   "cell_type": "code",
   "execution_count": 62,
   "metadata": {
    "scrolled": false
   },
   "outputs": [
    {
     "name": "stdout",
     "output_type": "stream",
     "text": [
      "                           number  incident_state    active  \\\n",
      "number                   1.000000        0.085860 -0.046256   \n",
      "incident_state           0.085860        1.000000 -0.159160   \n",
      "active                  -0.046256       -0.159160  1.000000   \n",
      "reassignment_count      -0.095056       -0.140245  0.038430   \n",
      "reopen_count             0.000129       -0.070102  0.018159   \n",
      "sys_mod_count           -0.077272       -0.056180 -0.099284   \n",
      "made_sla                 0.100628       -0.083118  0.528564   \n",
      "caller_id               -0.005355       -0.003584  0.004747   \n",
      "opened_by               -0.094164       -0.008139  0.001610   \n",
      "sys_created_by          -0.205700       -0.021666  0.028963   \n",
      "sys_updated_by           0.040583        0.061552 -0.490821   \n",
      "sys_updated_at          -0.033289        0.027309 -0.116227   \n",
      "contact_type             0.122813       -0.001237  0.006944   \n",
      "location                -0.034138        0.021642 -0.000974   \n",
      "category                 0.007231       -0.017054  0.000871   \n",
      "subcategory             -0.032291       -0.009232  0.000531   \n",
      "u_symptom                0.062268       -0.008842 -0.007540   \n",
      "cmdb_ci                 -0.038791       -0.023596  0.006737   \n",
      "impact                  -0.060810       -0.007935 -0.019527   \n",
      "urgency                 -0.048071       -0.002947 -0.017718   \n",
      "priority                -0.051078       -0.005593 -0.023420   \n",
      "assignment_group         0.175982        0.077267 -0.036711   \n",
      "assigned_to             -0.021728       -0.040517 -0.071736   \n",
      "knowledge               -0.565834       -0.028611  0.026487   \n",
      "u_priority_confirmation  0.243888        0.431041 -0.516838   \n",
      "notify                  -0.028245        0.014633 -0.007376   \n",
      "problem_id              -0.011862       -0.006384  0.004249   \n",
      "rfc                     -0.004283       -0.012137  0.002606   \n",
      "vendor                   0.006333       -0.003003  0.012435   \n",
      "caused_by               -0.005640       -0.002680  0.001028   \n",
      "closed_code              0.092839        0.009081 -0.013773   \n",
      "resolved_by             -0.058252       -0.055914  0.015590   \n",
      "duration                -0.176184       -0.088773  0.086325   \n",
      "\n",
      "                         reassignment_count  reopen_count  sys_mod_count  \\\n",
      "number                            -0.095056      0.000129      -0.077272   \n",
      "incident_state                    -0.140245     -0.070102      -0.056180   \n",
      "active                             0.038430      0.018159      -0.099284   \n",
      "reassignment_count                 1.000000      0.156015       0.516661   \n",
      "reopen_count                       0.156015      1.000000       0.236893   \n",
      "sys_mod_count                      0.516661      0.236893       1.000000   \n",
      "made_sla                          -0.092735     -0.016438      -0.238071   \n",
      "caller_id                          0.007147     -0.004633       0.011708   \n",
      "opened_by                         -0.014216     -0.008597      -0.009987   \n",
      "sys_created_by                     0.031818     -0.008552       0.043392   \n",
      "sys_updated_by                    -0.073911     -0.009479       0.006544   \n",
      "sys_updated_at                     0.048071      0.003109       0.044598   \n",
      "contact_type                       0.000809     -0.006042       0.019320   \n",
      "location                           0.000099     -0.023464      -0.016438   \n",
      "category                          -0.055779      0.005760      -0.002142   \n",
      "subcategory                        0.040376     -0.000800      -0.007153   \n",
      "u_symptom                         -0.010539     -0.015328      -0.020521   \n",
      "cmdb_ci                            0.011839     -0.004655       0.003336   \n",
      "impact                            -0.027329     -0.001352      -0.012271   \n",
      "urgency                           -0.022763      0.002909      -0.009182   \n",
      "priority                          -0.029754      0.004819      -0.017643   \n",
      "assignment_group                  -0.135407     -0.007127      -0.085214   \n",
      "assigned_to                       -0.063360      0.000149       0.050607   \n",
      "knowledge                          0.025639     -0.002208       0.039895   \n",
      "u_priority_confirmation           -0.014787      0.116770       0.160319   \n",
      "notify                            -0.003547     -0.002505      -0.005864   \n",
      "problem_id                        -0.003878     -0.009546       0.020859   \n",
      "rfc                               -0.017981     -0.006739       0.105163   \n",
      "vendor                             0.012042     -0.003431       0.079573   \n",
      "caused_by                         -0.000499     -0.001254       0.001958   \n",
      "closed_code                       -0.005501     -0.034485      -0.020337   \n",
      "resolved_by                        0.013120      0.002360       0.057454   \n",
      "duration                           0.210312      0.044035       0.331568   \n",
      "\n",
      "                         made_sla  caller_id  opened_by  sys_created_by  ...  \\\n",
      "number                   0.100628  -0.005355  -0.094164       -0.205700  ...   \n",
      "incident_state          -0.083118  -0.003584  -0.008139       -0.021666  ...   \n",
      "active                   0.528564   0.004747   0.001610        0.028963  ...   \n",
      "reassignment_count      -0.092735   0.007147  -0.014216        0.031818  ...   \n",
      "reopen_count            -0.016438  -0.004633  -0.008597       -0.008552  ...   \n",
      "sys_mod_count           -0.238071   0.011708  -0.009987        0.043392  ...   \n",
      "made_sla                 1.000000  -0.000406  -0.027398       -0.025078  ...   \n",
      "caller_id               -0.000406   1.000000   0.050228       -0.035728  ...   \n",
      "opened_by               -0.027398   0.050228   1.000000        0.193971  ...   \n",
      "sys_created_by          -0.025078  -0.035728   0.193971        1.000000  ...   \n",
      "sys_updated_by          -0.259106   0.009329   0.005521       -0.152031  ...   \n",
      "sys_updated_at          -0.117806   0.001849  -0.016430        0.016071  ...   \n",
      "contact_type             0.003846   0.006590   0.026504        0.030993  ...   \n",
      "location                -0.012613   0.038975   0.001439        0.003821  ...   \n",
      "category                -0.020872  -0.018552  -0.014150        0.034953  ...   \n",
      "subcategory             -0.008734   0.011916  -0.000364       -0.037217  ...   \n",
      "u_symptom                0.031160  -0.019683  -0.147509       -0.057281  ...   \n",
      "cmdb_ci                  0.002160  -0.009130   0.007355        0.020345  ...   \n",
      "impact                   0.042217  -0.002627  -0.071759        0.026651  ...   \n",
      "urgency                  0.049338  -0.009018  -0.073237        0.026049  ...   \n",
      "priority                 0.053932  -0.006338  -0.067212        0.008642  ...   \n",
      "assignment_group         0.063753  -0.019400  -0.048510       -0.320200  ...   \n",
      "assigned_to             -0.035088  -0.022061   0.046160        0.237538  ...   \n",
      "knowledge               -0.081922  -0.006702   0.094747        0.171658  ...   \n",
      "u_priority_confirmation -0.200714  -0.006827  -0.031171       -0.088876  ...   \n",
      "notify                  -0.021116   0.003501   0.004139       -0.005593  ...   \n",
      "problem_id              -0.030864   0.006964   0.026679        0.037684  ...   \n",
      "rfc                     -0.029315   0.003984   0.003551       -0.000798  ...   \n",
      "vendor                   0.005707   0.004698  -0.005804        0.001569  ...   \n",
      "caused_by               -0.005040   0.004715   0.005027        0.008994  ...   \n",
      "closed_code              0.022427   0.013816   0.000290       -0.020915  ...   \n",
      "resolved_by             -0.007691  -0.025291   0.069670        0.183384  ...   \n",
      "duration                -0.091698   0.010305   0.008309        0.065128  ...   \n",
      "\n",
      "                         knowledge  u_priority_confirmation    notify  \\\n",
      "number                   -0.565834                 0.243888 -0.028245   \n",
      "incident_state           -0.028611                 0.431041  0.014633   \n",
      "active                    0.026487                -0.516838 -0.007376   \n",
      "reassignment_count        0.025639                -0.014787 -0.003547   \n",
      "reopen_count             -0.002208                 0.116770 -0.002505   \n",
      "sys_mod_count             0.039895                 0.160319 -0.005864   \n",
      "made_sla                 -0.081922                -0.200714 -0.021116   \n",
      "caller_id                -0.006702                -0.006827  0.003501   \n",
      "opened_by                 0.094747                -0.031171  0.004139   \n",
      "sys_created_by            0.171658                -0.088876 -0.005593   \n",
      "sys_updated_by           -0.011161                 0.210422  0.018388   \n",
      "sys_updated_at            0.038974                 0.016044 -0.002127   \n",
      "contact_type             -0.025197                -0.001662 -0.264538   \n",
      "location                  0.026036                 0.001420 -0.017396   \n",
      "category                  0.025050                -0.002084 -0.012598   \n",
      "subcategory               0.073204                -0.007842 -0.010775   \n",
      "u_symptom                -0.158723                 0.035993 -0.009368   \n",
      "cmdb_ci                   0.035866                -0.012968 -0.001255   \n",
      "impact                    0.068274                -0.024949 -0.000365   \n",
      "urgency                   0.063447                -0.026191  0.000287   \n",
      "priority                  0.045350                -0.029087  0.001852   \n",
      "assignment_group         -0.054855                 0.091209 -0.009454   \n",
      "assigned_to              -0.035765                 0.097833 -0.017378   \n",
      "knowledge                 1.000000                -0.224609 -0.004689   \n",
      "u_priority_confirmation  -0.224609                 1.000000  0.005955   \n",
      "notify                   -0.004689                 0.005955  1.000000   \n",
      "problem_id                0.006537                 0.045853 -0.002769   \n",
      "rfc                       0.012723                 0.011694 -0.001817   \n",
      "vendor                   -0.005860                -0.014705 -0.000925   \n",
      "caused_by                 0.018011                 0.005892 -0.000338   \n",
      "closed_code              -0.073604                 0.027700 -0.034292   \n",
      "resolved_by               0.053227                -0.046124 -0.000943   \n",
      "duration                  0.241656                -0.128211 -0.012144   \n",
      "\n",
      "                         problem_id       rfc    vendor  caused_by  \\\n",
      "number                    -0.011862 -0.004283  0.006333  -0.005640   \n",
      "incident_state            -0.006384 -0.012137 -0.003003  -0.002680   \n",
      "active                     0.004249  0.002606  0.012435   0.001028   \n",
      "reassignment_count        -0.003878 -0.017981  0.012042  -0.000499   \n",
      "reopen_count              -0.009546 -0.006739 -0.003431  -0.001254   \n",
      "sys_mod_count              0.020859  0.105163  0.079573   0.001958   \n",
      "made_sla                  -0.030864 -0.029315  0.005707  -0.005040   \n",
      "caller_id                  0.006964  0.003984  0.004698   0.004715   \n",
      "opened_by                  0.026679  0.003551 -0.005804   0.005027   \n",
      "sys_created_by             0.037684 -0.000798  0.001569   0.008994   \n",
      "sys_updated_by            -0.014608  0.008350 -0.026711   0.007073   \n",
      "sys_updated_at            -0.002502  0.001666 -0.005303   0.003509   \n",
      "contact_type               0.019072 -0.004067 -0.002071  -0.000757   \n",
      "location                   0.006009  0.003221  0.003520  -0.003351   \n",
      "category                   0.007935  0.024919 -0.016724   0.005363   \n",
      "subcategory                0.042072  0.040122 -0.017710   0.018317   \n",
      "u_symptom                 -0.027451 -0.002465 -0.004533  -0.009806   \n",
      "cmdb_ci                    0.001258 -0.003377 -0.001719  -0.000628   \n",
      "impact                    -0.283750 -0.019799 -0.004077  -0.048430   \n",
      "urgency                   -0.280503 -0.011714 -0.003110  -0.047102   \n",
      "priority                  -0.381792 -0.024978 -0.003136  -0.064642   \n",
      "assignment_group          -0.018781 -0.005647 -0.012013   0.000790   \n",
      "assigned_to               -0.007301  0.012318  0.022624   0.003900   \n",
      "knowledge                  0.006537  0.012723 -0.005860   0.018011   \n",
      "u_priority_confirmation    0.045853  0.011694 -0.014705   0.005892   \n",
      "notify                    -0.002769 -0.001817 -0.000925  -0.000338   \n",
      "problem_id                 1.000000  0.071531  0.016958   0.086625   \n",
      "rfc                        0.071531  1.000000 -0.002489   0.005712   \n",
      "vendor                     0.016958 -0.002489  1.000000  -0.000463   \n",
      "caused_by                  0.086625  0.005712 -0.000463   1.000000   \n",
      "closed_code               -0.004959  0.006658  0.000730   0.002343   \n",
      "resolved_by                0.019385 -0.001744  0.011547  -0.000766   \n",
      "duration                   0.009781  0.073983  0.024417  -0.002073   \n",
      "\n",
      "                         closed_code  resolved_by  duration  \n",
      "number                      0.092839    -0.058252 -0.176184  \n",
      "incident_state              0.009081    -0.055914 -0.088773  \n",
      "active                     -0.013773     0.015590  0.086325  \n",
      "reassignment_count         -0.005501     0.013120  0.210312  \n",
      "reopen_count               -0.034485     0.002360  0.044035  \n",
      "sys_mod_count              -0.020337     0.057454  0.331568  \n",
      "made_sla                    0.022427    -0.007691 -0.091698  \n",
      "caller_id                   0.013816    -0.025291  0.010305  \n",
      "opened_by                   0.000290     0.069670  0.008309  \n",
      "sys_created_by             -0.020915     0.183384  0.065128  \n",
      "sys_updated_by              0.020538    -0.141586 -0.068352  \n",
      "sys_updated_at             -0.019486    -0.063558  0.038171  \n",
      "contact_type                0.015500     0.022477  0.047187  \n",
      "location                    0.011795    -0.008104  0.024276  \n",
      "category                   -0.020357     0.036136  0.017133  \n",
      "subcategory                 0.009876    -0.055799  0.027554  \n",
      "u_symptom                   0.027652     0.003751 -0.088654  \n",
      "cmdb_ci                     0.002462     0.029997  0.009674  \n",
      "impact                     -0.001067     0.005704  0.022949  \n",
      "urgency                     0.006657     0.009442  0.010760  \n",
      "priority                    0.005746    -0.008171  0.013562  \n",
      "assignment_group            0.050817    -0.088917 -0.083299  \n",
      "assigned_to                -0.010223     0.664503  0.006086  \n",
      "knowledge                  -0.073604     0.053227  0.241656  \n",
      "u_priority_confirmation     0.027700    -0.046124 -0.128211  \n",
      "notify                     -0.034292    -0.000943 -0.012144  \n",
      "problem_id                 -0.004959     0.019385  0.009781  \n",
      "rfc                         0.006658    -0.001744  0.073983  \n",
      "vendor                      0.000730     0.011547  0.024417  \n",
      "caused_by                   0.002343    -0.000766 -0.002073  \n",
      "closed_code                 1.000000    -0.027232 -0.041100  \n",
      "resolved_by                -0.027232     1.000000  0.059288  \n",
      "duration                   -0.041100     0.059288  1.000000  \n",
      "\n",
      "[33 rows x 33 columns]\n"
     ]
    }
   ],
   "source": [
    "print(df.corr())"
   ]
  },
  {
   "cell_type": "markdown",
   "metadata": {},
   "source": [
    "* FINALEMENT, ON TRIE LES DEPENDANCES DES ATTRIBUTS AVEC \"duration\" (duration étant le target)"
   ]
  },
  {
   "cell_type": "code",
   "execution_count": 63,
   "metadata": {},
   "outputs": [
    {
     "data": {
      "text/plain": [
       "duration                   1.000000\n",
       "sys_mod_count              0.331568\n",
       "knowledge                  0.241656\n",
       "reassignment_count         0.210312\n",
       "active                     0.086325\n",
       "rfc                        0.073983\n",
       "sys_created_by             0.065128\n",
       "resolved_by                0.059288\n",
       "contact_type               0.047187\n",
       "reopen_count               0.044035\n",
       "sys_updated_at             0.038171\n",
       "subcategory                0.027554\n",
       "vendor                     0.024417\n",
       "location                   0.024276\n",
       "impact                     0.022949\n",
       "category                   0.017133\n",
       "priority                   0.013562\n",
       "urgency                    0.010760\n",
       "caller_id                  0.010305\n",
       "problem_id                 0.009781\n",
       "cmdb_ci                    0.009674\n",
       "opened_by                  0.008309\n",
       "assigned_to                0.006086\n",
       "caused_by                 -0.002073\n",
       "notify                    -0.012144\n",
       "closed_code               -0.041100\n",
       "sys_updated_by            -0.068352\n",
       "assignment_group          -0.083299\n",
       "u_symptom                 -0.088654\n",
       "incident_state            -0.088773\n",
       "made_sla                  -0.091698\n",
       "u_priority_confirmation   -0.128211\n",
       "number                    -0.176184\n",
       "Name: duration, dtype: float64"
      ]
     },
     "execution_count": 63,
     "metadata": {},
     "output_type": "execute_result"
    }
   ],
   "source": [
    "df.corr()[\"duration\"].sort_values(ascending = False)"
   ]
  },
  {
   "cell_type": "markdown",
   "metadata": {},
   "source": [
    "* REPRESENTATION GRAPHIQUES EN UTILISANT PANDAS"
   ]
  },
  {
   "cell_type": "code",
   "execution_count": 64,
   "metadata": {},
   "outputs": [
    {
     "data": {
      "image/png": "[encoded data removed]",
      "text/plain": [
       "<Figure size 720x720 with 2 Axes>"
      ]
     },
     "metadata": {
      "needs_background": "light"
     },
     "output_type": "display_data"
    }
   ],
   "source": [
    "plt.figure(figsize=(10,10))\n",
    "sns.heatmap(df.corr(),\n",
    "            vmin=-1,\n",
    "            cmap='coolwarm');"
   ]
  },
  {
   "cell_type": "code",
   "execution_count": 65,
   "metadata": {},
   "outputs": [
    {
     "data": {
      "text/plain": [
       "<matplotlib.axes._subplots.AxesSubplot at 0x20473b4b080>"
      ]
     },
     "execution_count": 65,
     "metadata": {},
     "output_type": "execute_result"
    },
    {
     "data": {
      "image/png": "[encoded data removed]",
      "text/plain": [
       "<Figure size 648x576 with 2 Axes>"
      ]
     },
     "metadata": {
      "needs_background": "light"
     },
     "output_type": "display_data"
    }
   ],
   "source": [
    "f, ax = plt.subplots(figsize =(9, 8)) \n",
    "sns.heatmap(df.corr(), ax = ax, cmap =\"YlGnBu\", linewidths = 0.1) "
   ]
  },
  {
   "cell_type": "markdown",
   "metadata": {},
   "source": [
    "* EN UTILISANT SEABORN, ET EN TRIANT PAR CORRELATION DECROISSANTE "
   ]
  },
  {
   "cell_type": "code",
   "execution_count": 66,
   "metadata": {},
   "outputs": [
    {
     "data": {
      "image/png": "[encoded data removed]",
      "text/plain": [
       "<Figure size 1080x1080 with 2 Axes>"
      ]
     },
     "metadata": {
      "needs_background": "light"
     },
     "output_type": "display_data"
    }
   ],
   "source": [
    "plt.figure(figsize=(15,15))\n",
    "sns.heatmap(df.corr()[['duration']].sort_values(by=['duration'],ascending=False),\n",
    "            vmin=-1,\n",
    "            cmap='coolwarm',\n",
    "            annot=True);"
   ]
  },
  {
   "cell_type": "markdown",
   "metadata": {},
   "source": [
    "* QUELQUES GRAPHES CONCERNANT NOTRE TARGET 'duration'"
   ]
  },
  {
   "cell_type": "code",
   "execution_count": 67,
   "metadata": {},
   "outputs": [
    {
     "data": {
      "text/plain": [
       "<matplotlib.axes._subplots.AxesSubplot at 0x204735f9438>"
      ]
     },
     "execution_count": 67,
     "metadata": {},
     "output_type": "execute_result"
    },
    {
     "data": {
      "image/png": "[encoded data removed]",
      "text/plain": [
       "<Figure size 432x288 with 1 Axes>"
      ]
     },
     "metadata": {
      "needs_background": "light"
     },
     "output_type": "display_data"
    }
   ],
   "source": [
    "sns.kdeplot(df['duration'])"
   ]
  },
  {
   "cell_type": "code",
   "execution_count": 68,
   "metadata": {},
   "outputs": [
    {
     "data": {
      "text/plain": [
       "{'whiskers': [<matplotlib.lines.Line2D at 0x2046d618630>,\n",
       "  <matplotlib.lines.Line2D at 0x204740ddfd0>],\n",
       " 'caps': [<matplotlib.lines.Line2D at 0x204741361d0>,\n",
       "  <matplotlib.lines.Line2D at 0x20474136dd8>],\n",
       " 'boxes': [<matplotlib.lines.Line2D at 0x2046d618588>],\n",
       " 'medians': [<matplotlib.lines.Line2D at 0x204741369e8>],\n",
       " 'fliers': [<matplotlib.lines.Line2D at 0x20474136860>],\n",
       " 'means': []}"
      ]
     },
     "execution_count": 68,
     "metadata": {},
     "output_type": "execute_result"
    },
    {
     "data": {
      "image/png": "[encoded data removed]",
      "text/plain": [
       "<Figure size 432x288 with 1 Axes>"
      ]
     },
     "metadata": {
      "needs_background": "light"
     },
     "output_type": "display_data"
    }
   ],
   "source": [
    "fig1, ax1 = plt.subplots()\n",
    "ax1.set_title('Duration time distribution (days)')\n",
    "ax1.boxplot(df['duration'])"
   ]
  },
  {
   "cell_type": "code",
   "execution_count": 69,
   "metadata": {},
   "outputs": [],
   "source": [
    "from scipy import stats\n",
    "\n",
    "Q1 = df['duration'].quantile(0.25)\n",
    "Q3 = df['duration'].quantile(0.75)\n",
    "IQR = Q3 - Q1\n",
    "\n",
    "filter = (df['duration'] >= Q1 - 1.5 * IQR) & (df['duration'] <= Q3 + 1.5 *IQR)\n",
    "df = df.loc[filter]  "
   ]
  },
  {
   "cell_type": "code",
   "execution_count": 70,
   "metadata": {},
   "outputs": [
    {
     "data": {
      "text/plain": [
       "{'whiskers': [<matplotlib.lines.Line2D at 0x2046d4be240>,\n",
       "  <matplotlib.lines.Line2D at 0x2046d4beb38>],\n",
       " 'caps': [<matplotlib.lines.Line2D at 0x2046d4be8d0>,\n",
       "  <matplotlib.lines.Line2D at 0x2046d4bec88>],\n",
       " 'boxes': [<matplotlib.lines.Line2D at 0x2046d4bf470>],\n",
       " 'medians': [<matplotlib.lines.Line2D at 0x20473b2d748>],\n",
       " 'fliers': [<matplotlib.lines.Line2D at 0x20473afabe0>],\n",
       " 'means': []}"
      ]
     },
     "execution_count": 70,
     "metadata": {},
     "output_type": "execute_result"
    },
    {
     "data": {
      "image/png": "[encoded data removed]",
      "text/plain": [
       "<Figure size 432x288 with 1 Axes>"
      ]
     },
     "metadata": {
      "needs_background": "light"
     },
     "output_type": "display_data"
    }
   ],
   "source": [
    "fig1, ax1 = plt.subplots()\n",
    "ax1.set_title('Duration time distribution (days)')\n",
    "ax1.boxplot(df['duration'])"
   ]
  },
  {
   "cell_type": "code",
   "execution_count": 71,
   "metadata": {},
   "outputs": [
    {
     "data": {
      "text/plain": [
       "(95167, 33)"
      ]
     },
     "execution_count": 71,
     "metadata": {},
     "output_type": "execute_result"
    }
   ],
   "source": [
    "df.shape"
   ]
  },
  {
   "cell_type": "markdown",
   "metadata": {},
   "source": [
    "* ON A REMOVE LES OUTLIERS"
   ]
  },
  {
   "cell_type": "markdown",
   "metadata": {},
   "source": [
    "# 5) REGRESSION AVEC SCIKITLEARN, LASSO, RIDGE..."
   ]
  },
  {
   "cell_type": "code",
   "execution_count": 72,
   "metadata": {},
   "outputs": [],
   "source": [
    "from sklearn.linear_model import LinearRegression\n",
    "from sklearn.metrics import mean_squared_error\n",
    "from sklearn.model_selection import train_test_split\n",
    "from sklearn.model_selection import cross_val_score\n",
    "from sklearn.linear_model import Ridge\n",
    "\n",
    "from sklearn.metrics import classification_report\n",
    "from sklearn.metrics import confusion_matrix"
   ]
  },
  {
   "cell_type": "code",
   "execution_count": 73,
   "metadata": {},
   "outputs": [],
   "source": [
    "y = df['duration'].values\n",
    "X = df.drop('duration',axis=1).values"
   ]
  },
  {
   "cell_type": "code",
   "execution_count": 74,
   "metadata": {},
   "outputs": [
    {
     "name": "stdout",
     "output_type": "stream",
     "text": [
      "(95167,)\n",
      "(95167, 32)\n"
     ]
    }
   ],
   "source": [
    "print(y.shape)\n",
    "print(X.shape)"
   ]
  },
  {
   "cell_type": "code",
   "execution_count": 75,
   "metadata": {},
   "outputs": [
    {
     "name": "stdout",
     "output_type": "stream",
     "text": [
      "R^2: 0.25443199228858016\n",
      "Root Mean Squared Error: 17.069542768334927\n"
     ]
    }
   ],
   "source": [
    "X_train, X_test, y_train, y_test = train_test_split(X, y, test_size = 0.2, random_state=39)\n",
    "\n",
    "reg_all = LinearRegression()\n",
    "reg_all.fit(X_train,y_train)\n",
    "\n",
    "y_pred = reg_all.predict(X_test)\n",
    "\n",
    "print(\"R^2: {}\".format(reg_all.score(X_test, y_test)))\n",
    "rmse = np.sqrt(mean_squared_error(y_test,y_pred))\n",
    "print(\"Root Mean Squared Error: {}\".format(rmse))"
   ]
  },
  {
   "cell_type": "code",
   "execution_count": 76,
   "metadata": {},
   "outputs": [
    {
     "name": "stdout",
     "output_type": "stream",
     "text": [
      "[ 0.00628322  0.15079112  0.13662474  0.14995758 -0.01252217]\n",
      "Average 5-Fold CV Score: 0.0862268966018779\n"
     ]
    }
   ],
   "source": [
    "cv_scores = cross_val_score(reg_all,X,y,cv=5)\n",
    "print(cv_scores)\n",
    "print(\"Average 5-Fold CV Score: {}\".format(np.mean(cv_scores)))"
   ]
  },
  {
   "cell_type": "code",
   "execution_count": 77,
   "metadata": {},
   "outputs": [
    {
     "name": "stdout",
     "output_type": "stream",
     "text": [
      "0.09181063328207564\n"
     ]
    }
   ],
   "source": [
    "cvscores_10 = cross_val_score(reg_all,X,y,cv=10)\n",
    "print(np.mean(cvscores_10))"
   ]
  },
  {
   "cell_type": "code",
   "execution_count": 78,
   "metadata": {},
   "outputs": [
    {
     "name": "stdout",
     "output_type": "stream",
     "text": [
      "[-1.63778875e-04 -2.46303728e-01  0.00000000e+00  2.35201921e-01\n",
      " -0.00000000e+00  1.14471687e+00 -0.00000000e+00  2.76904347e-05\n",
      " -1.10457883e-02  8.90003359e-03 -6.21774415e-03 -0.00000000e+00\n",
      "  0.00000000e+00  5.25087824e-03  2.40472324e-02  4.93042971e-03\n",
      " -5.49973052e-03 -0.00000000e+00  0.00000000e+00  0.00000000e+00\n",
      "  0.00000000e+00 -3.70323361e-02 -1.67138066e-02  1.19682267e+01\n",
      " -2.45431400e+00 -0.00000000e+00  2.07251015e-02  6.46542392e-02\n",
      "  0.00000000e+00  0.00000000e+00 -1.29154023e-01  1.71386562e-02]\n"
     ]
    }
   ],
   "source": [
    "from sklearn.linear_model import Lasso\n",
    "lasso = Lasso(alpha=0.4,normalize=False)\n",
    "lasso.fit(X,y)\n",
    "\n",
    "lasso_coef = lasso.coef_\n",
    "print(lasso_coef)"
   ]
  },
  {
   "cell_type": "code",
   "execution_count": 79,
   "metadata": {},
   "outputs": [
    {
     "data": {
      "image/png": "[encoded data removed]",
      "text/plain": [
       "<Figure size 432x288 with 1 Axes>"
      ]
     },
     "metadata": {
      "needs_background": "light"
     },
     "output_type": "display_data"
    }
   ],
   "source": [
    "Xbis = df.drop('duration',axis=1)\n",
    "plt.plot(range(len(Xbis.columns)), lasso_coef)\n",
    "plt.xticks(range(len(Xbis.columns)), Xbis.columns.values, rotation=60)\n",
    "plt.margins(0.02)\n",
    "plt.show()"
   ]
  },
  {
   "cell_type": "code",
   "execution_count": 80,
   "metadata": {},
   "outputs": [],
   "source": [
    "def display_plot(cv_scores, cv_scores_std):\n",
    "    fig = plt.figure()\n",
    "    ax = fig.add_subplot(1,1,1)\n",
    "    ax.plot(alpha_space, cv_scores)\n",
    "\n",
    "    std_error = cv_scores_std / np.sqrt(10)\n",
    "\n",
    "    ax.fill_between(alpha_space, cv_scores + std_error, cv_scores - std_error, alpha=0.2)\n",
    "    ax.set_ylabel('CV Score +/- Std Error')\n",
    "    ax.set_xlabel('Alpha')\n",
    "    ax.axhline(np.max(cv_scores), linestyle='--', color='.5')\n",
    "    ax.set_xlim([alpha_space[0], alpha_space[-1]])\n",
    "    ax.set_xscale('log')\n",
    "    plt.show()"
   ]
  },
  {
   "cell_type": "code",
   "execution_count": 81,
   "metadata": {},
   "outputs": [
    {
     "data": {
      "image/png": "[encoded data removed]",
      "text/plain": [
       "<Figure size 432x288 with 1 Axes>"
      ]
     },
     "metadata": {
      "needs_background": "light"
     },
     "output_type": "display_data"
    }
   ],
   "source": [
    "alpha_space = np.logspace(-4, 0, 50)\n",
    "ridge_scores = []\n",
    "ridge_scores_std = []\n",
    "\n",
    "ridge = Ridge(normalize=True)\n",
    "\n",
    "for alpha in alpha_space:\n",
    "\n",
    "    ridge.alpha = alpha\n",
    "    ridge_cv_scores = cross_val_score(ridge,X,y,cv=5)\n",
    "    ridge_scores.append(np.mean(ridge_cv_scores))\n",
    "    ridge_scores_std.append(np.std(ridge_cv_scores))\n",
    "\n",
    "display_plot(ridge_scores, ridge_scores_std)"
   ]
  },
  {
   "cell_type": "code",
   "execution_count": 82,
   "metadata": {},
   "outputs": [
    {
     "name": "stdout",
     "output_type": "stream",
     "text": [
      "[-0.02407799  0.13935897  0.15647202  0.14304219  0.11204424]\n"
     ]
    }
   ],
   "source": [
    "ridge = Ridge(alpha=0.5, normalize=True)\n",
    "ridge_cv = cross_val_score(ridge, X, y, cv=5)\n",
    "\n",
    "print(ridge_cv)"
   ]
  },
  {
   "cell_type": "code",
   "execution_count": 84,
   "metadata": {},
   "outputs": [],
   "source": [
    "def score_regression(algo, X_test, y_test):\n",
    "    predictions = algo.predict(X_test)\n",
    "    errors = abs(predictions - y_test)\n",
    "    print('Mean Absolute Error:', round(np.mean(errors), 2), 'jours.')\n",
    "    y_test = [1 if value == 0 else value for value in y_test ]\n",
    "    mape = 100 * (errors / y_test)\n",
    "    accuracy = 100 - np.mean(mape)\n",
    "    print('Accuracy:', round(accuracy, 2), '%.')"
   ]
  },
  {
   "cell_type": "code",
   "execution_count": 85,
   "metadata": {},
   "outputs": [
    {
     "data": {
      "text/plain": [
       "DecisionTreeRegressor(criterion='mse', max_depth=None, max_features=None,\n",
       "                      max_leaf_nodes=None, min_impurity_decrease=0.0,\n",
       "                      min_impurity_split=None, min_samples_leaf=1,\n",
       "                      min_samples_split=2, min_weight_fraction_leaf=0.0,\n",
       "                      presort=False, random_state=None, splitter='best')"
      ]
     },
     "execution_count": 85,
     "metadata": {},
     "output_type": "execute_result"
    }
   ],
   "source": [
    "from sklearn.tree import DecisionTreeRegressor\n",
    "treed = DecisionTreeRegressor()\n",
    "treed.fit(X_train,y_train)"
   ]
  },
  {
   "cell_type": "code",
   "execution_count": 87,
   "metadata": {},
   "outputs": [
    {
     "name": "stdout",
     "output_type": "stream",
     "text": [
      "Mean Absolute Error: 4.23 jours.\n",
      "Accuracy: -388.56 %.\n"
     ]
    }
   ],
   "source": [
    "score_regression(treed, X_test,y_test)"
   ]
  },
  {
   "cell_type": "code",
   "execution_count": 88,
   "metadata": {},
   "outputs": [
    {
     "name": "stderr",
     "output_type": "stream",
     "text": [
      "C:\\Users\\Joakim\\Anaconda3\\lib\\site-packages\\sklearn\\neural_network\\multilayer_perceptron.py:568: UserWarning: Training interrupted by user.\n",
      "  warnings.warn(\"Training interrupted by user.\")\n"
     ]
    },
    {
     "data": {
      "text/plain": [
       "Pipeline(memory=None,\n",
       "         steps=[('standardscaler',\n",
       "                 StandardScaler(copy=True, with_mean=True, with_std=True)),\n",
       "                ('mlpregressor',\n",
       "                 MLPRegressor(activation='relu', alpha=0.0001,\n",
       "                              batch_size='auto', beta_1=0.9, beta_2=0.999,\n",
       "                              early_stopping=False, epsilon=1e-08,\n",
       "                              hidden_layer_sizes=(40, 30),\n",
       "                              learning_rate='constant',\n",
       "                              learning_rate_init=0.001, max_iter=600,\n",
       "                              momentum=0.9, n_iter_no_change=10,\n",
       "                              nesterovs_momentum=True, power_t=0.5,\n",
       "                              random_state=0, shuffle=True, solver='adam',\n",
       "                              tol=0.0001, validation_fraction=0.1,\n",
       "                              verbose=False, warm_start=False))],\n",
       "         verbose=False)"
      ]
     },
     "execution_count": 88,
     "metadata": {},
     "output_type": "execute_result"
    }
   ],
   "source": [
    "from sklearn.neural_network import MLPRegressor\n",
    "from sklearn.preprocessing import StandardScaler\n",
    "from sklearn.pipeline import make_pipeline\n",
    "from sklearn.tree import DecisionTreeRegressor\n",
    "from sklearn.inspection import plot_partial_dependence\n",
    "\n",
    "mlp = make_pipeline(StandardScaler(),MLPRegressor(hidden_layer_sizes=(40,30), max_iter=600, random_state=0))\n",
    "mlp.fit(X_train, y_train)"
   ]
  },
  {
   "cell_type": "code",
   "execution_count": 89,
   "metadata": {},
   "outputs": [
    {
     "name": "stdout",
     "output_type": "stream",
     "text": [
      "Mean Absolute Error: 9.8 jours.\n",
      "Accuracy: -1004.57 %.\n"
     ]
    }
   ],
   "source": [
    "score_regression(mlp, X_test,y_test)"
   ]
  },
  {
   "cell_type": "code",
   "execution_count": 90,
   "metadata": {},
   "outputs": [
    {
     "data": {
      "text/plain": [
       "RandomForestRegressor(bootstrap=True, criterion='mse', max_depth=None,\n",
       "                      max_features='auto', max_leaf_nodes=None,\n",
       "                      min_impurity_decrease=0.0, min_impurity_split=None,\n",
       "                      min_samples_leaf=1, min_samples_split=2,\n",
       "                      min_weight_fraction_leaf=0.0, n_estimators=1000,\n",
       "                      n_jobs=None, oob_score=False, random_state=42, verbose=0,\n",
       "                      warm_start=False)"
      ]
     },
     "execution_count": 90,
     "metadata": {},
     "output_type": "execute_result"
    }
   ],
   "source": [
    "from sklearn.ensemble import RandomForestRegressor\n",
    "rf = RandomForestRegressor(n_estimators = 1000, random_state = 42,criterion='mse')\n",
    "rf.fit(X_train, y_train)"
   ]
  },
  {
   "cell_type": "code",
   "execution_count": 92,
   "metadata": {},
   "outputs": [],
   "source": [
    "y_predrf = rf.predict(X_test)"
   ]
  },
  {
   "cell_type": "code",
   "execution_count": 93,
   "metadata": {},
   "outputs": [
    {
     "name": "stdout",
     "output_type": "stream",
     "text": [
      "Mean Absolute Error: 11.413690589266457\n",
      "Mean Squared Error: 291.3692903200152\n",
      "Root Mean Squared Error: 17.069542768334927\n"
     ]
    }
   ],
   "source": [
    "from sklearn import metrics\n",
    "\n",
    "print('Mean Absolute Error:', metrics.mean_absolute_error(y_test, y_pred))\n",
    "print('Mean Squared Error:', metrics.mean_squared_error(y_test, y_pred))\n",
    "print('Root Mean Squared Error:', np.sqrt(metrics.mean_squared_error(y_test, y_pred)))"
   ]
  },
  {
   "cell_type": "markdown",
   "metadata": {},
   "source": [
    "#  HYPERPARAMETRES avec ElasticNet et RFR (w/ gridsearch)"
   ]
  },
  {
   "cell_type": "code",
   "execution_count": 94,
   "metadata": {},
   "outputs": [],
   "source": [
    "from scipy.stats import randint\n",
    "from sklearn.tree import DecisionTreeClassifier\n",
    "from sklearn.model_selection import RandomizedSearchCV\n",
    "from sklearn.linear_model import ElasticNet\n",
    "from sklearn.model_selection import GridSearchCV"
   ]
  },
  {
   "cell_type": "code",
   "execution_count": 95,
   "metadata": {},
   "outputs": [
    {
     "name": "stderr",
     "output_type": "stream",
     "text": [
      "C:\\Users\\Joakim\\Anaconda3\\lib\\site-packages\\sklearn\\linear_model\\coordinate_descent.py:475: ConvergenceWarning: Objective did not converge. You might want to increase the number of iterations. Duality gap: 9498340.94266737, tolerance: 2349.249087122395\n",
      "  positive)\n",
      "C:\\Users\\Joakim\\Anaconda3\\lib\\site-packages\\sklearn\\linear_model\\coordinate_descent.py:475: ConvergenceWarning: Objective did not converge. You might want to increase the number of iterations. Duality gap: 9462065.190200401, tolerance: 2340.736735668584\n",
      "  positive)\n",
      "C:\\Users\\Joakim\\Anaconda3\\lib\\site-packages\\sklearn\\linear_model\\coordinate_descent.py:475: ConvergenceWarning: Objective did not converge. You might want to increase the number of iterations. Duality gap: 9398284.109502323, tolerance: 2326.091932975027\n",
      "  positive)\n",
      "C:\\Users\\Joakim\\Anaconda3\\lib\\site-packages\\sklearn\\linear_model\\coordinate_descent.py:475: ConvergenceWarning: Objective did not converge. You might want to increase the number of iterations. Duality gap: 9463411.128685007, tolerance: 2339.773388707878\n",
      "  positive)\n",
      "C:\\Users\\Joakim\\Anaconda3\\lib\\site-packages\\sklearn\\linear_model\\coordinate_descent.py:475: ConvergenceWarning: Objective did not converge. You might want to increase the number of iterations. Duality gap: 9451715.578126466, tolerance: 2337.0805032530784\n",
      "  positive)\n"
     ]
    },
    {
     "name": "stdout",
     "output_type": "stream",
     "text": [
      "Tuned ElasticNet l1 ratio: {'l1_ratio': 1.0}\n",
      "Tuned ElasticNet R squared: 0.2022347741163354\n",
      "Tuned ElasticNet MSE: 311.76805509830837\n"
     ]
    }
   ],
   "source": [
    "l1_space = np.linspace(0, 1, 30)\n",
    "param_grid = {'l1_ratio': l1_space}\n",
    "\n",
    "elastic_net = ElasticNet()\n",
    "\n",
    "gm_cv = GridSearchCV(elastic_net, param_grid, cv=5)\n",
    "gm_cv.fit(X_train, y_train)\n",
    "\n",
    "y_pred = gm_cv.predict(X_test)\n",
    "r2 = gm_cv.score(X_test, y_test)\n",
    "mse = mean_squared_error(y_test, y_pred)\n",
    "print(\"Tuned ElasticNet l1 ratio: {}\".format(gm_cv.best_params_))\n",
    "print(\"Tuned ElasticNet R squared: {}\".format(r2))\n",
    "print(\"Tuned ElasticNet MSE: {}\".format(mse))"
   ]
  },
  {
   "cell_type": "code",
   "execution_count": null,
   "metadata": {},
   "outputs": [
    {
     "name": "stdout",
     "output_type": "stream",
     "text": [
      "Fitting 3 folds for each of 100 candidates, totalling 300 fits\n"
     ]
    },
    {
     "name": "stderr",
     "output_type": "stream",
     "text": [
      "[Parallel(n_jobs=-1)]: Using backend LokyBackend with 4 concurrent workers.\n"
     ]
    }
   ],
   "source": [
    "from sklearn.ensemble import RandomForestRegressor\n",
    "\n",
    "n_estimators = [int(x) for x in np.linspace(start = 200, stop = 2000, num = 10)]\n",
    "max_features = ['auto', 'sqrt']\n",
    "max_depth = [int(x) for x in np.linspace(10, 110, num = 11)]\n",
    "max_depth.append(None)\n",
    "min_samples_split = [2, 5, 10]\n",
    "min_samples_leaf = [1, 2, 4]\n",
    "bootstrap = [True, False]\n",
    "\n",
    "random_grid = {'n_estimators': n_estimators,\n",
    "               'max_features': max_features,\n",
    "               'max_depth': max_depth,\n",
    "               'min_samples_split': min_samples_split,\n",
    "               'min_samples_leaf': min_samples_leaf,\n",
    "               'bootstrap': bootstrap}\n",
    "\n",
    "rf = RandomForestRegressor()\n",
    "rf_random = RandomizedSearchCV(estimator = rf, param_distributions = random_grid, n_iter = 100, cv = 3, verbose=2, random_state=42, n_jobs = -1)\n",
    "rf_random.fit(X_train, y)"
   ]
  },
  {
   "cell_type": "code",
   "execution_count": null,
   "metadata": {},
   "outputs": [],
   "source": [
    "rf_random.best_params_"
   ]
  },
  {
   "cell_type": "code",
   "execution_count": null,
   "metadata": {},
   "outputs": [],
   "source": []
  }
 ],
 "metadata": {
  "kernelspec": {
   "display_name": "Python 3",
   "language": "python",
   "name": "python3"
  },
  "language_info": {
   "codemirror_mode": {
    "name": "ipython",
    "version": 3
   },
   "file_extension": ".py",
   "mimetype": "text/x-python",
   "name": "python",
   "nbconvert_exporter": "python",
   "pygments_lexer": "ipython3",
   "version": "3.7.3"
  }
 },
 "nbformat": 4,
 "nbformat_minor": 2
}
